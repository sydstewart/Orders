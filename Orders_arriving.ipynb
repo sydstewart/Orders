{
  "nbformat": 4,
  "nbformat_minor": 0,
  "metadata": {
    "colab": {
      "name": "Orders arriving.ipynb",
      "provenance": [],
      "collapsed_sections": [],
      "authorship_tag": "ABX9TyMT7UIPMrK1ZYrPAFzth7cI",
      "include_colab_link": true
    },
    "kernelspec": {
      "name": "python3",
      "display_name": "Python 3"
    },
    "language_info": {
      "name": "python"
    }
  },
  "cells": [
    {
      "cell_type": "markdown",
      "metadata": {
        "id": "view-in-github",
        "colab_type": "text"
      },
      "source": [
        "<a href=\"https://colab.research.google.com/github/sydstewart/Orders/blob/main/Orders_arriving.ipynb\" target=\"_parent\"><img src=\"https://colab.research.google.com/assets/colab-badge.svg\" alt=\"Open In Colab\"/></a>"
      ]
    },
    {
      "cell_type": "code",
      "metadata": {
        "id": "_RLEkvsRK636"
      },
      "source": [
        "# install Pint if necessary\n",
        "\n",
        "try:\n",
        "    import pint\n",
        "except ImportError:\n",
        "    !pip install pint\n",
        "\n",
        "# download modsim.py if necessary\n",
        "\n",
        "from os.path import basename, exists\n",
        "\n",
        "def download(url):\n",
        "    filename = basename(url)\n",
        "    if not exists(filename):\n",
        "        from urllib.request import urlretrieve\n",
        "        local, _ = urlretrieve(url, filename)\n",
        "        print('Downloaded ' + local)\n",
        "    \n",
        "download('https://raw.githubusercontent.com/AllenDowney/' +\n",
        "         'ModSimPy/master/modsim.py')\n"
      ],
      "execution_count": null,
      "outputs": []
    },
    {
      "cell_type": "code",
      "metadata": {
        "id": "2eNN_nFhV9Jw"
      },
      "source": [
        "# import functions from modsim\n",
        "\n",
        "from modsim import *\n",
        "\n",
        "orders = State(small=0, medium = 0 , large =0 )\n",
        "show(orders)\n",
        "\n",
        "def smallOrder():\n",
        "    # print('Small order arrives')\n",
        "    orders.small += 1\n",
        "\n",
        "def mediumOrder():\n",
        "    # print('Medium order arrives')\n",
        "    orders.medium += 1\n",
        "\n",
        "def largeOrder():\n",
        "    # print('Large order arrives')\n",
        "    orders.large += 1         \n",
        "\n",
        "\n",
        "def step(p1, p2, p3):\n",
        "    if flip(p1):\n",
        "        smallOrder()\n",
        "    \n",
        "    if flip(p2):\n",
        "        mediumOrder()\n",
        "    \n",
        "    if flip(p3):\n",
        "        largeOrder()\n",
        "       \n",
        "\n",
        "smallresults = TimeSeries()\n",
        "mediumresults =TimeSeries()\n",
        "largeresults =TimeSeries()\n",
        "\n",
        "for i in range(250):\n",
        "    # print(i)\n",
        "    step(0.5, 0.24 ,0.016)\n",
        "    \n",
        "    smallresults[i+1] = orders.small\n",
        "    mediumresults[i+1] = orders.medium\n",
        "    largeresults[i+1] = orders.large\n",
        "        \n",
        "\n",
        "smallresults.plot()\n",
        "decorate(title='Olin-Wellesley Bikeshare',\n",
        "         xlabel='Time step (days)', \n",
        "         ylabel='Number of Orders')\n",
        "\n",
        "mediumresults.plot()\n",
        "decorate(title='Olin-Wellesley Bikeshare',\n",
        "         xlabel='Time step (days)', \n",
        "         ylabel='Number of Orders')\n",
        "\n",
        "largeresults.plot()\n",
        "decorate(title='Large Orders',\n",
        "         xlabel='Time step (days)', \n",
        "         ylabel='Number of Orders')\n",
        "\n",
        "orders"
      ],
      "execution_count": null,
      "outputs": []
    }
  ]
}