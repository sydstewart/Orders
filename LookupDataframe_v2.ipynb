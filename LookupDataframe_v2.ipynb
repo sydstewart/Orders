{
  "nbformat": 4,
  "nbformat_minor": 0,
  "metadata": {
    "colab": {
      "name": "LookupDataframe v2.ipynb",
      "provenance": [],
      "collapsed_sections": [],
      "authorship_tag": "ABX9TyOxSaHQQxnIu7p+dNQR1jO5",
      "include_colab_link": true
    },
    "kernelspec": {
      "name": "python3",
      "display_name": "Python 3"
    },
    "language_info": {
      "name": "python"
    }
  },
  "cells": [
    {
      "cell_type": "markdown",
      "metadata": {
        "id": "view-in-github",
        "colab_type": "text"
      },
      "source": [
        "<a href=\"https://colab.research.google.com/github/sydstewart/Orders/blob/main/LookupDataframe_v2.ipynb\" target=\"_parent\"><img src=\"https://colab.research.google.com/assets/colab-badge.svg\" alt=\"Open In Colab\"/></a>"
      ]
    },
    {
      "cell_type": "code",
      "metadata": {
        "id": "nbq_RdjCDv8n",
        "colab": {
          "base_uri": "https://localhost:8080/",
          "height": 765
        },
        "outputId": "732f9fdf-ee22-4d5d-ef29-d959262d318b"
      },
      "source": [
        "import numpy as np\n",
        "import pandas as pd\n",
        "import random\n",
        "import matplotlib.pyplot as plt\n",
        "\n",
        "# ---------------------------Dataframe of project distribution -----------------------------------------------\n",
        "# df = pd.DataFrame([[0,100],[60.7, 4992 ], [77.3, 9998 ], [86.2, 14574 ],[90.6,19448],[93.2,24420],[94.5,29030],[96.1,34850],[97.1,39900],[100,88000]],  columns=('Percent', 'Value'))\n",
        "df = pd.DataFrame([[0,1],[60.7, 10 ], [77.3, 20 ], [86.2, 30 ],[90.6,40],[93.2,50],[94.5,60],[96.1,70],[97.1,80],[100,100]],  columns=('Percent', 'Value'))\n",
        "\n",
        "print(df)\n",
        "i = 1\n",
        "randarray = []\n",
        "interparray = []\n",
        "while i < 180:\n",
        "\n",
        "        #--------------Enter Randon Percent between 1 and 100 -------------------\n",
        "        n = random.randint(1,100)\n",
        "        if n == 0:\n",
        "          print('n has to be between 1 and 100 - has been set to 1')\n",
        "          n = 1\n",
        "        randarray.append(n)\n",
        "        #------------------Find index below random percent --------------------\n",
        "        \n",
        "        dfb = df[ df['Percent']<n ].index.values.astype(int)  # find rows below n\n",
        "        rowbelowid = len(dfb)-1   # last value in dfb list\n",
        "        # print (dfb)\n",
        "        # print(rowbelowid)\n",
        "\n",
        "        #------------------Find index above random percent --------------------\n",
        "\n",
        "        dfa = df[ df['Percent']>=n ].index.values.astype(int)   # find rows above n\n",
        "        # print(dfa)\n",
        "\n",
        "        rowaboveid = dfa[0]   # first value in dfa list\n",
        "        # print(rowaboveid)\n",
        "\n",
        "\n",
        "\n",
        "        #-----------------------------Prep for Interpolation ----------------------\n",
        "        rowvalue_above = df.at[rowaboveid,'Value']\n",
        "        rowpercent_above = df.at[rowaboveid,'Percent']\n",
        "        rowvalue_below = df.at[rowbelowid,'Value']\n",
        "        rowpercent_below = df.at[rowbelowid,'Percent']\n",
        "        interpvalue = (n - rowpercent_below )* (rowvalue_above - rowvalue_below ) /(rowpercent_above - rowpercent_below) + rowvalue_below \n",
        "        interpvalue = int(interpvalue)\n",
        "        interparray.append(interpvalue)\n",
        "        i += 1\n",
        "# ----------------work out percents and values above and below-----------------\n",
        "print('==============================================')\n",
        "print('Randomly chosen Percent=', n)\n",
        "print('Row Below index =',rowbelowid)\n",
        "print('Row above index =',rowaboveid)\n",
        "print('Row Below percent =',df.at[rowbelowid,'Percent'])\n",
        "print('Row above percent =',df.at[rowaboveid,'Percent'])\n",
        "\n",
        "print('Row Below value =',df.at[rowbelowid,'Value'])\n",
        "print('Row above value =',df.at[rowaboveid,'Value'])\n",
        "\n",
        "diffPercentbelow = round(n - df.at[rowbelowid,'Percent'],1)\n",
        "diffPercentbetweenupperandlower = round(df.at[rowaboveid,'Percent'] - df.at[rowbelowid,'Percent'],1)\n",
        "differenceValuebetweenupperandlower = rowvalue_above - rowvalue_below\n",
        "print('')\n",
        "\n",
        "\n",
        "#-----------------------------Prints for Interpolation calc ----------------------\n",
        "print('Percent Diff below random percent=',diffPercentbelow,'(', n, '-',rowpercent_below,')')\n",
        "print('Percent Diff below between below and above percent=', diffPercentbetweenupperandlower,'(', df.at[rowaboveid,'Percent'] , '-',rowpercent_below,')')\n",
        "print('Value Difference between below and above', rowvalue_above - rowvalue_below,'(',df.at[rowaboveid,'Value'],'-', df.at[rowbelowid,'Value'],')')\n",
        "\n",
        "\n",
        "#------------------------------Interpolation Calc -----------------------------\n",
        "interpvalue = (n - rowpercent_below )* (rowvalue_above - rowvalue_below ) /(rowpercent_above - rowpercent_below) + rowvalue_below \n",
        "interpvalue = int(interpvalue)\n",
        "print('')\n",
        "print('==============================================')\n",
        "print('Interpolated Value=', interpvalue,'   (((',diffPercentbelow ,')','/','(', diffPercentbetweenupperandlower,'))', '*','(',differenceValuebetweenupperandlower,'))', ' +',rowvalue_below)\n",
        "print('==============================================')\n",
        "\n",
        "\n",
        "plt.ylabel(\"Cumulative %\")\n",
        "plt.xlabel(\"Days of Work\")\n",
        "\n",
        "plt.scatter( interparray, randarray, label = ' Days Work for Projects')\n",
        "\n",
        "\n",
        "\n"
      ],
      "execution_count": 2,
      "outputs": [
        {
          "output_type": "stream",
          "text": [
            "   Percent  Value\n",
            "0      0.0      1\n",
            "1     60.7     10\n",
            "2     77.3     20\n",
            "3     86.2     30\n",
            "4     90.6     40\n",
            "5     93.2     50\n",
            "6     94.5     60\n",
            "7     96.1     70\n",
            "8     97.1     80\n",
            "9    100.0    100\n",
            "==============================================\n",
            "Randomly chosen Percent= 49\n",
            "Row Below index = 0\n",
            "Row above index = 1\n",
            "Row Below percent = 0.0\n",
            "Row above percent = 60.7\n",
            "Row Below value = 1\n",
            "Row above value = 10\n",
            "\n",
            "Percent Diff below random percent= 49.0 ( 49 - 0.0 )\n",
            "Percent Diff below between below and above percent= 60.7 ( 60.7 - 0.0 )\n",
            "Value Difference between below and above 9 ( 10 - 1 )\n",
            "\n",
            "==============================================\n",
            "Interpolated Value= 8    ((( 49.0 ) / ( 60.7 )) * ( 9 ))  + 1\n",
            "==============================================\n"
          ],
          "name": "stdout"
        },
        {
          "output_type": "execute_result",
          "data": {
            "text/plain": [
              "<matplotlib.collections.PathCollection at 0x7f13b2249b10>"
            ]
          },
          "metadata": {
            "tags": []
          },
          "execution_count": 2
        },
        {
          "output_type": "display_data",
          "data": {
            "image/png": "[encoded data removed]",
            "text/plain": [
              "<Figure size 432x288 with 1 Axes>"
            ]
          },
          "metadata": {
            "tags": [],
            "needs_background": "light"
          }
        }
      ]
    }
  ]
}