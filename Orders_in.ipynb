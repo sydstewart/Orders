{
  "nbformat": 4,
  "nbformat_minor": 0,
  "metadata": {
    "colab": {
      "name": "Orders in.ipynb",
      "provenance": [],
      "collapsed_sections": [],
      "authorship_tag": "ABX9TyMiZ006T/8GUbHpBVHMdVzW",
      "include_colab_link": true
    },
    "kernelspec": {
      "name": "python3",
      "display_name": "Python 3"
    },
    "language_info": {
      "name": "python"
    }
  },
  "cells": [
    {
      "cell_type": "markdown",
      "metadata": {
        "id": "view-in-github",
        "colab_type": "text"
      },
      "source": [
        "<a href=\"https://colab.research.google.com/github/sydstewart/Orders/blob/main/Orders_in.ipynb\" target=\"_parent\"><img src=\"https://colab.research.google.com/assets/colab-badge.svg\" alt=\"Open In Colab\"/></a>"
      ]
    },
    {
      "cell_type": "code",
      "metadata": {
        "id": "7Gq5tK39LFFV"
      },
      "source": [
        "\n",
        "!pip install simpy\n",
        "import numpy as np\n",
        "import matplotlib.pyplot as plt\n",
        "import numpy as np\n",
        "from matplotlib import colors\n",
        "from matplotlib.ticker import PercentFormatter\n",
        "import random\n",
        "\n",
        "histdata =[]\n",
        "for x in range(3000):\n",
        "  randnum =  random.randint(1,100) \n",
        "  print (randnum)\n",
        "  histdata.append(randnum) \n",
        "\n",
        "print(histdata)\n",
        "num_bins = 20 # <- number of bins for the histogram\n",
        "plt.hist(histdata, num_bins)\n",
        "plt.show()\n",
        "\n",
        "y_data = np.array([100, 5000, 10000, 15000, 25000, 35000,75000,85])\n",
        "x_data = np.array([0.1, 80, 90, 93, 95, 96, 97,100])\n",
        "\n",
        "log_x_data = np.log(x_data),\n",
        "log_y_data = np.log(y_data)\n",
        "\n",
        "curve_fit = np.polyfit(x_data, log_y_data, 1)\n",
        "print(curve_fit)\n",
        "#[  0.14703851 -10.50966207]\n",
        "y = np.exp(-10.50966207) * np.exp(0.14703851*x_data)\n",
        "plt.plot(x_data, y_data, \"o\")\n",
        "plt.plot(x_data, y)\n",
        "\n",
        "y = np.exp(-10.50) * np.exp(0.1470*40)\n",
        "print('order  value for 40 =', y *1000)\n",
        "\n",
        "def car(env):\n",
        "     park_dur = []\n",
        "     while True:\n",
        "       #  print('Start parking at %d' % env.now)\n",
        "         parking_duration = (np.random.exponential(10, 1)) \n",
        "        #  parking_duration = int(parking_duration)\n",
        "         print('parking duration=', parking_duration *1000)\n",
        "        #  park_dur.append = env.timeout(parking_duration)\n",
        "         yield env.timeout(parking_duration)\n",
        "        #  plt.hist(parking_duration)\n",
        "        #  plt.show() \n",
        "      #   print('Start driving at %d' % env.now)\n",
        "         trip_duration = 2\n",
        "         yield env.timeout(trip_duration)\n",
        "          "
      ],
      "execution_count": null,
      "outputs": []
    },
    {
      "cell_type": "code",
      "metadata": {
        "id": "YI0CWCz4LP7N"
      },
      "source": [
        "# !pip install simpy\n",
        "import simpy\n",
        "park_dur = []\n",
        "env = simpy.Environment()\n",
        "env.process(car(env))\n",
        " \n",
        "env.run(until=595)\n",
        "# park_dur = car(env)\n",
        "\n",
        "# print(park_dur)"
      ],
      "execution_count": null,
      "outputs": []
    }
  ]
}