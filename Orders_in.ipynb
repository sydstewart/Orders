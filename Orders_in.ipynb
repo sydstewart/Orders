{
  "nbformat": 4,
  "nbformat_minor": 0,
  "metadata": {
    "colab": {
      "name": "Orders in.ipynb",
      "provenance": [],
      "collapsed_sections": [],
      "authorship_tag": "ABX9TyPGXcHKg9FPwOtUnpPyR4IO",
      "include_colab_link": true
    },
    "kernelspec": {
      "name": "python3",
      "display_name": "Python 3"
    },
    "language_info": {
      "name": "python"
    }
  },
  "cells": [
    {
      "cell_type": "markdown",
      "metadata": {
        "id": "view-in-github",
        "colab_type": "text"
      },
      "source": [
        "<a href=\"https://colab.research.google.com/github/sydstewart/Orders/blob/main/Orders_in.ipynb\" target=\"_parent\"><img src=\"https://colab.research.google.com/assets/colab-badge.svg\" alt=\"Open In Colab\"/></a>"
      ]
    },
    {
      "cell_type": "code",
      "metadata": {
        "colab": {
          "base_uri": "https://localhost:8080/",
          "height": 684
        },
        "id": "7Gq5tK39LFFV",
        "outputId": "8df1fc4f-6dc7-4ed6-d720-cd43f7fc4919"
      },
      "source": [
        "\n",
        "!pip install simpy\n",
        "import numpy as np\n",
        "import matplotlib.pyplot as plt\n",
        "import numpy as np\n",
        "from matplotlib import colors\n",
        "from matplotlib.ticker import PercentFormatter\n",
        "import random\n",
        "\n",
        "histdata =[]\n",
        "for x in range(3000):\n",
        "  randnum =  random.randint(1,100) \n",
        "  # print (randnum)\n",
        "  histdata.append(randnum) \n",
        "\n",
        "print(histdata)\n",
        "num_bins = 20 # <- number of bins for the histogram\n",
        "plt.hist(histdata, num_bins)\n",
        "plt.show()\n",
        "\n",
        "y_data = np.array([1, 918,3067 ,5057 ,7050,9336 ,11134 ,13325,15267 ,17165 ,18859 ,25890,29095 ,37410,75825,88000])\n",
        "x_data = np.array([1, 48.3,71.4,81.3,85.2,87.2,90.6,92.1,93.6,95.1,96.1,96.6,98.5,99.0,99.5,100.0])\n",
        "\n",
        "log_x_data = np.log(x_data),\n",
        "log_y_data = np.log(y_data)\n",
        "\n",
        "curve_fit = np.polyfit(x_data, log_y_data, 1)\n",
        "print(curve_fit)\n",
        "# 0.10080164 0.52474321]\n",
        "y = np.exp(0.52474321) * np.exp(0.10080164*x_data)\n",
        "plt.plot(x_data, y_data, \"o\")\n",
        "plt.plot(x_data, y)\n",
        "\n",
        "y = np.exp(0.52474321) * np.exp(0.10080164*20)\n",
        "print('order  value for 20 =', y )\n",
        "y = np.exp(0.52474321) * np.exp(0.10080164*50)\n",
        "print('order  value for 50 =', y )\n",
        "y = np.exp(0.52474321) * np.exp(0.10080164*70)\n",
        "print('order  value for 70 =', y )\n",
        "y = np.exp(0.52474321) * np.exp(0.10080164*80)\n",
        "print('order  value for 80 =', y )\n",
        "y = np.exp(0.52474321) * np.exp(0.10080164*90)\n",
        "print('order  value for 90 =', y )\n",
        "y = np.exp(0.52474321) * np.exp(0.10080164*95)\n",
        "print('order  value for 95 =', y )\n",
        "\n",
        "def car(env):\n",
        "     park_dur = []\n",
        "     while True:\n",
        "       #  print('Start parking at %d' % env.now)\n",
        "         parking_duration = (np.random.exponential(10, 1)) \n",
        "        #  parking_duration = int(parking_duration)\n",
        "         print('parking duration=', parking_duration *1000)\n",
        "        #  park_dur.append = env.timeout(parking_duration)\n",
        "         yield env.timeout(parking_duration)\n",
        "        #  plt.hist(parking_duration)\n",
        "        #  plt.show() \n",
        "      #   print('Start driving at %d' % env.now)\n",
        "         trip_duration = 2\n",
        "         yield env.timeout(trip_duration)\n",
        "          "
      ],
      "execution_count": 8,
      "outputs": [
        {
          "output_type": "stream",
          "text": [
            "Requirement already satisfied: simpy in /usr/local/lib/python3.7/dist-packages (4.0.1)\n",
            "[96, 15, 17, 40, 30, 30, 96, 65, 13, 24, 54, 88, 49, 65, 73, 17, 12, 50, 90, 41, 31, 54, 92, 39, 35, 13, 28, 97, 86, 48, 72, 38, 83, 49, 72, 38, 41, 66, 60, 11, 4, 88, 37, 44, 73, 80, 20, 43, 74, 12, 31, 73, 98, 21, 22, 61, 89, 43, 7, 31, 74, 97, 16, 27, 57, 100, 70, 87, 39, 80, 47, 99, 79, 48, 61, 49, 77, 19, 56, 2, 12, 54, 60, 8, 42, 26, 83, 79, 3, 87, 73, 53, 65, 51, 12, 48, 45, 51, 67, 72, 49, 95, 63, 90, 72, 69, 47, 80, 52, 30, 96, 92, 44, 71, 51, 45, 86, 72, 67, 48, 46, 26, 93, 93, 88, 45, 82, 28, 85, 18, 50, 66, 91, 61, 78, 59, 47, 25, 71, 24, 52, 33, 45, 18, 26, 95, 38, 95, 65, 78, 13, 77, 63, 21, 73, 73, 44, 44, 99, 38, 11, 60, 77, 50, 2, 51, 17, 67, 38, 53, 16, 13, 13, 99, 81, 12, 60, 52, 72, 10, 51, 36, 1, 5, 22, 95, 10, 17, 59, 80, 44, 61, 70, 72, 50, 91, 6, 3, 77, 99, 20, 28, 30, 97, 77, 60, 26, 89, 52, 94, 84, 62, 79, 89, 53, 63, 3, 70, 16, 19, 62, 85, 7, 83, 91, 21, 100, 90, 9, 30, 84, 13, 70, 62, 79, 14, 33, 34, 4, 96, 29, 22, 87, 48, 77, 57, 65, 99, 78, 45, 21, 32, 8, 48, 58, 59, 77, 99, 31, 8, 17, 86, 10, 21, 96, 21, 22, 56, 15, 66, 86, 79, 64, 66, 83, 78, 13, 35, 33, 58, 54, 27, 70, 97, 88, 87, 35, 37, 5, 60, 82, 56, 6, 47, 69, 27, 98, 46, 17, 39, 53, 10, 48, 68, 86, 4, 21, 89, 79, 59, 84, 49, 86, 73, 15, 80, 84, 67, 55, 22, 44, 27, 26, 20, 92, 60, 5, 15, 86, 44, 27, 47, 76, 4, 71, 6, 82, 5, 64, 54, 94, 41, 39, 62, 6, 49, 53, 30, 4, 18, 25, 81, 21, 94, 100, 40, 19, 27, 8, 21, 23, 25, 29, 63, 41, 73, 81, 78, 29, 37, 80, 74, 11, 25, 32, 70, 74, 27, 94, 63, 40, 73, 92, 85, 63, 53, 37, 79, 42, 76, 1, 19, 98, 33, 54, 4, 87, 33, 77, 30, 99, 25, 91, 89, 63, 23, 50, 61, 27, 57, 53, 50, 70, 80, 9, 41, 41, 38, 88, 21, 7, 41, 27, 14, 28, 19, 58, 91, 45, 5, 90, 89, 13, 14, 21, 63, 22, 86, 44, 22, 41, 57, 91, 90, 45, 26, 4, 95, 40, 10, 21, 27, 61, 63, 90, 31, 43, 59, 21, 60, 62, 23, 6, 31, 60, 62, 42, 94, 8, 7, 41, 35, 24, 45, 66, 28, 37, 62, 8, 27, 9, 84, 58, 63, 40, 72, 68, 89, 39, 1, 11, 31, 36, 75, 10, 72, 10, 77, 77, 72, 55, 2, 65, 80, 98, 24, 11, 98, 27, 61, 87, 7, 65, 15, 54, 44, 44, 18, 61, 62, 57, 20, 88, 96, 87, 61, 53, 91, 86, 40, 60, 36, 3, 100, 64, 41, 22, 21, 49, 39, 100, 100, 40, 11, 93, 48, 19, 11, 15, 79, 21, 57, 83, 69, 91, 56, 97, 9, 20, 67, 14, 30, 100, 90, 86, 81, 71, 54, 7, 32, 79, 23, 63, 22, 79, 23, 43, 95, 89, 14, 17, 86, 22, 92, 16, 94, 77, 46, 93, 7, 94, 77, 2, 25, 42, 90, 35, 31, 88, 19, 1, 35, 60, 4, 83, 28, 50, 35, 71, 30, 76, 52, 6, 64, 3, 10, 65, 49, 75, 34, 90, 64, 61, 46, 14, 50, 72, 76, 82, 68, 40, 93, 16, 59, 96, 57, 80, 41, 75, 55, 31, 82, 29, 63, 91, 49, 6, 17, 38, 98, 58, 93, 60, 88, 2, 78, 62, 80, 92, 48, 44, 51, 27, 63, 15, 65, 53, 12, 97, 82, 73, 13, 80, 78, 94, 17, 72, 35, 26, 94, 33, 78, 47, 22, 49, 58, 58, 90, 12, 95, 64, 31, 93, 26, 65, 14, 89, 58, 79, 13, 5, 7, 18, 13, 36, 77, 52, 78, 94, 21, 72, 19, 81, 45, 76, 48, 83, 51, 23, 1, 36, 66, 40, 2, 75, 71, 95, 26, 29, 74, 92, 79, 78, 13, 44, 4, 82, 80, 12, 60, 26, 7, 11, 32, 47, 91, 87, 55, 80, 88, 24, 97, 12, 80, 83, 80, 13, 23, 99, 100, 25, 90, 70, 7, 46, 28, 16, 77, 63, 19, 48, 15, 45, 51, 75, 52, 81, 43, 90, 17, 90, 59, 60, 9, 80, 71, 77, 81, 18, 12, 72, 1, 28, 75, 95, 2, 40, 60, 82, 76, 87, 64, 70, 89, 90, 100, 78, 99, 77, 71, 69, 84, 96, 16, 71, 34, 64, 52, 12, 14, 88, 25, 80, 37, 41, 92, 98, 14, 44, 46, 54, 16, 50, 15, 25, 65, 7, 80, 24, 48, 65, 56, 2, 60, 70, 73, 82, 9, 82, 73, 32, 7, 88, 89, 19, 43, 16, 22, 69, 98, 74, 68, 71, 12, 4, 21, 100, 95, 10, 97, 57, 44, 20, 47, 82, 43, 43, 56, 98, 86, 43, 10, 3, 39, 88, 6, 23, 39, 49, 2, 19, 25, 19, 39, 5, 51, 72, 97, 42, 87, 72, 14, 53, 11, 67, 9, 13, 63, 22, 83, 18, 51, 45, 87, 1, 10, 91, 39, 57, 65, 54, 83, 16, 42, 71, 38, 60, 45, 5, 56, 87, 38, 6, 47, 51, 34, 91, 93, 53, 74, 74, 68, 76, 30, 48, 74, 16, 66, 64, 30, 51, 18, 40, 32, 15, 34, 51, 87, 64, 94, 71, 84, 79, 82, 75, 43, 7, 27, 21, 46, 54, 44, 84, 99, 67, 24, 43, 49, 96, 3, 83, 46, 78, 81, 95, 33, 3, 7, 46, 9, 18, 83, 39, 71, 58, 51, 34, 53, 8, 82, 58, 11, 76, 97, 37, 39, 35, 32, 36, 66, 49, 75, 26, 42, 81, 18, 73, 3, 46, 34, 95, 87, 34, 35, 57, 66, 2, 42, 9, 35, 97, 1, 80, 89, 35, 24, 19, 89, 13, 86, 59, 17, 3, 84, 17, 81, 64, 32, 14, 12, 14, 21, 40, 31, 36, 30, 68, 38, 36, 58, 63, 57, 80, 29, 39, 2, 92, 29, 1, 57, 15, 40, 72, 88, 56, 82, 75, 75, 85, 57, 49, 42, 71, 71, 4, 4, 14, 23, 78, 9, 89, 36, 32, 4, 52, 99, 20, 96, 36, 60, 49, 21, 93, 50, 89, 15, 77, 83, 57, 19, 43, 56, 56, 68, 36, 51, 39, 3, 64, 83, 6, 12, 14, 73, 17, 4, 76, 56, 51, 85, 40, 41, 4, 20, 9, 4, 64, 59, 46, 58, 68, 56, 39, 76, 69, 46, 52, 97, 90, 66, 25, 27, 41, 84, 5, 34, 82, 93, 70, 93, 93, 39, 22, 95, 38, 60, 6, 38, 67, 90, 54, 68, 84, 99, 61, 12, 12, 51, 91, 24, 99, 81, 97, 13, 9, 8, 92, 10, 94, 3, 84, 66, 5, 28, 23, 28, 18, 59, 93, 69, 5, 51, 78, 67, 18, 2, 86, 29, 85, 20, 98, 29, 64, 71, 43, 28, 85, 1, 99, 79, 12, 32, 47, 48, 16, 17, 87, 86, 18, 16, 1, 10, 68, 5, 40, 36, 66, 94, 22, 13, 93, 15, 72, 30, 12, 87, 21, 85, 50, 31, 92, 100, 14, 79, 45, 86, 32, 51, 71, 63, 90, 38, 48, 74, 70, 57, 5, 79, 46, 22, 61, 38, 19, 75, 40, 7, 78, 6, 30, 64, 6, 82, 8, 35, 82, 66, 34, 8, 84, 28, 98, 62, 38, 66, 79, 96, 71, 64, 96, 23, 83, 43, 41, 59, 8, 90, 75, 51, 10, 96, 80, 42, 67, 19, 14, 22, 69, 14, 31, 64, 94, 13, 25, 14, 7, 17, 35, 69, 25, 67, 10, 99, 96, 41, 15, 97, 44, 50, 68, 26, 75, 35, 24, 87, 30, 44, 99, 79, 43, 13, 13, 7, 18, 55, 32, 20, 4, 35, 68, 2, 62, 87, 36, 32, 20, 76, 9, 21, 56, 72, 47, 35, 18, 68, 15, 17, 15, 98, 79, 12, 60, 47, 53, 64, 83, 47, 30, 96, 39, 52, 29, 43, 10, 11, 30, 55, 9, 45, 27, 91, 39, 13, 70, 9, 54, 48, 91, 68, 58, 14, 4, 39, 7, 78, 1, 75, 75, 67, 40, 79, 65, 94, 62, 2, 90, 33, 25, 19, 21, 79, 45, 33, 26, 2, 57, 61, 42, 33, 44, 9, 31, 21, 10, 64, 65, 26, 75, 31, 93, 79, 75, 95, 86, 55, 25, 30, 72, 59, 22, 39, 45, 43, 20, 16, 92, 16, 46, 90, 5, 8, 11, 10, 96, 35, 57, 100, 89, 16, 47, 52, 72, 98, 37, 71, 59, 48, 40, 6, 25, 33, 8, 3, 20, 32, 45, 18, 38, 35, 73, 96, 81, 76, 67, 45, 11, 27, 8, 65, 22, 87, 31, 43, 58, 78, 25, 89, 69, 24, 32, 79, 43, 33, 36, 86, 31, 65, 66, 17, 30, 27, 31, 61, 4, 92, 27, 12, 69, 79, 78, 100, 73, 34, 80, 2, 58, 93, 40, 74, 44, 42, 65, 40, 59, 70, 37, 9, 22, 20, 23, 15, 42, 87, 68, 55, 50, 88, 26, 14, 57, 23, 42, 37, 95, 99, 100, 36, 48, 76, 48, 21, 47, 67, 15, 14, 35, 77, 82, 32, 83, 59, 1, 36, 46, 67, 13, 79, 6, 97, 7, 40, 28, 37, 54, 51, 60, 13, 36, 18, 37, 52, 82, 94, 13, 24, 7, 79, 88, 77, 12, 13, 63, 1, 76, 26, 52, 45, 17, 21, 74, 95, 88, 30, 91, 47, 22, 59, 5, 81, 86, 3, 29, 33, 15, 39, 1, 100, 18, 19, 61, 64, 42, 46, 1, 31, 21, 12, 25, 26, 45, 20, 56, 73, 3, 35, 69, 63, 4, 41, 45, 32, 90, 76, 75, 92, 97, 64, 73, 85, 71, 6, 1, 33, 61, 89, 73, 39, 6, 3, 85, 20, 61, 43, 70, 85, 36, 71, 31, 56, 25, 98, 35, 3, 27, 40, 53, 31, 23, 43, 92, 15, 6, 4, 89, 82, 90, 62, 17, 98, 20, 85, 39, 37, 85, 78, 24, 53, 50, 72, 3, 18, 60, 49, 30, 32, 71, 21, 73, 24, 7, 88, 81, 2, 67, 33, 37, 44, 51, 38, 3, 21, 12, 98, 55, 7, 99, 30, 18, 76, 71, 33, 77, 15, 37, 2, 92, 97, 64, 29, 19, 40, 100, 84, 85, 68, 50, 44, 93, 21, 91, 69, 15, 65, 63, 40, 22, 42, 82, 46, 66, 30, 100, 94, 14, 50, 54, 80, 81, 6, 5, 18, 76, 24, 81, 50, 46, 92, 91, 11, 4, 2, 57, 45, 97, 39, 80, 60, 84, 21, 4, 39, 63, 78, 92, 88, 31, 39, 80, 9, 3, 87, 67, 80, 23, 31, 41, 7, 18, 31, 81, 79, 25, 89, 91, 60, 80, 83, 5, 92, 14, 36, 52, 67, 56, 31, 9, 97, 81, 56, 19, 91, 45, 3, 18, 76, 30, 1, 98, 93, 80, 62, 56, 60, 12, 76, 31, 49, 55, 31, 79, 69, 46, 51, 28, 11, 14, 13, 15, 42, 44, 66, 24, 20, 37, 45, 2, 83, 4, 33, 3, 84, 51, 26, 56, 26, 100, 60, 99, 67, 52, 10, 60, 99, 80, 6, 31, 27, 7, 65, 52, 89, 63, 80, 77, 16, 9, 74, 99, 60, 76, 93, 70, 8, 17, 54, 22, 24, 28, 2, 22, 79, 72, 96, 56, 38, 86, 28, 8, 54, 32, 94, 100, 95, 87, 69, 54, 56, 22, 49, 84, 56, 33, 24, 6, 14, 71, 10, 86, 55, 94, 30, 59, 72, 67, 69, 71, 59, 3, 13, 45, 22, 43, 54, 38, 75, 93, 72, 94, 8, 72, 74, 3, 15, 88, 83, 100, 52, 18, 32, 61, 53, 46, 17, 62, 85, 98, 58, 61, 13, 71, 44, 27, 2, 94, 65, 78, 94, 58, 76, 15, 21, 21, 21, 89, 93, 6, 91, 48, 21, 39, 81, 44, 76, 48, 1, 73, 77, 81, 17, 94, 46, 2, 21, 73, 23, 10, 37, 68, 34, 72, 57, 48, 35, 87, 24, 26, 34, 40, 75, 60, 66, 84, 70, 33, 68, 66, 78, 39, 11, 20, 91, 41, 86, 36, 50, 80, 33, 18, 44, 66, 6, 91, 47, 31, 49, 1, 57, 36, 15, 70, 71, 33, 17, 8, 14, 79, 66, 32, 9, 66, 78, 77, 87, 61, 80, 91, 46, 67, 64, 23, 20, 61, 49, 67, 38, 96, 21, 34, 97, 51, 63, 71, 98, 70, 23, 4, 26, 45, 90, 8, 71, 83, 100, 43, 28, 85, 19, 63, 80, 33, 16, 15, 66, 20, 78, 21, 68, 63, 69, 21, 4, 26, 98, 16, 57, 9, 50, 13, 75, 99, 10, 61, 72, 80, 83, 26, 89, 82, 97, 39, 58, 47, 96, 77, 46, 78, 26, 77, 53, 20, 14, 12, 6, 31, 14, 44, 78, 34, 35, 90, 86, 42, 49, 76, 80, 9, 14, 80, 30, 76, 2, 89, 88, 57, 57, 34, 92, 61, 26, 56, 64, 13, 44, 24, 99, 72, 13, 53, 90, 76, 78, 75, 30, 35, 50, 40, 5, 38, 96, 44, 48, 16, 1, 22, 16, 61, 49, 86, 90, 17, 36, 97, 67, 97, 38, 46, 23, 98, 100, 40, 44, 44, 41, 25, 20, 63, 27, 81, 81, 38, 42, 8, 74, 31, 12, 34, 43, 78, 74, 46, 62, 35, 8, 32, 92, 45, 26, 95, 72, 49, 12, 45, 23, 26, 24, 74, 34, 29, 72, 12, 44, 21, 33, 38, 70, 82, 69, 27, 7, 100, 57, 87, 51, 39, 85, 3, 4, 59, 60, 93, 12, 31, 6, 76, 89, 32, 55, 95, 18, 97, 81, 7, 10, 62, 20, 97, 64, 49, 82, 28, 97, 65, 75, 38, 56, 13, 33, 5, 30, 54, 33, 66, 30, 22, 13, 53, 37, 76, 92, 21, 12, 72, 2, 84, 8, 14, 48, 13, 37, 23, 19, 61, 1, 94, 25, 98, 32, 90, 95, 95, 60, 26, 16, 92, 71, 64, 36, 24, 97, 40, 13, 98, 72, 76, 95, 78, 24, 35, 91, 89, 27, 42, 5, 20, 4, 91, 7, 44, 59, 4, 49, 41, 89, 52, 28, 14, 15, 18, 43, 94, 5, 15, 79, 22, 67, 36, 95, 54, 58, 13, 29, 46, 28, 1, 20, 45, 58, 36, 87, 24, 19, 84, 96, 23, 43, 72, 13, 80, 95, 97, 59, 58, 49, 22, 77, 7, 39, 59, 28, 45, 82, 28, 63, 69, 94, 93, 42, 14, 31, 42, 77, 82, 5, 2, 31, 32, 45, 38, 31, 46, 99, 70, 79, 74, 94, 25, 40, 24, 65, 58, 26, 75, 34, 18, 33, 72, 12, 70, 41, 1, 20, 59, 51, 26, 44, 71, 47, 37, 72, 37, 58, 36, 48, 16, 59, 5, 77, 39, 82, 2, 6, 19, 47, 23, 1, 76, 51, 34, 20, 28, 3, 68, 16, 32, 16, 81, 95, 12, 16, 37, 6, 73, 5, 59, 84, 80, 57, 47, 78, 14, 38, 19, 100, 51, 81, 38, 29, 12, 15, 47, 13, 21, 48, 90, 27, 11, 35, 21, 9, 65, 79, 19, 34, 13, 42, 58, 23, 91, 63, 64, 50, 92, 43, 14, 1, 100, 24, 75, 86, 84, 82, 10, 53, 73, 41, 10, 9, 80, 24, 73, 79, 13, 44, 22, 91, 55, 39, 17, 60, 89, 10, 45, 58, 87, 86, 20, 17, 93, 23, 92, 83, 90, 54, 53, 78, 29, 31, 82, 66, 78, 36, 90, 19, 46, 57, 81, 75, 43, 52, 59, 75, 50, 71, 36, 2, 28, 75, 73, 45, 29, 19, 83, 93, 60, 63, 8, 39, 57, 74, 69, 93, 67, 42, 8, 39, 68, 98, 54, 19, 17, 89, 34, 38, 87, 53, 13, 68, 33, 20, 57, 58, 77, 89, 35, 44, 13, 19, 53, 54, 98, 41, 66, 5, 79, 35, 2, 32, 60, 56, 96, 32, 57, 12, 44, 57, 86, 20, 98, 33, 43, 77, 72, 89, 89, 8, 61, 62, 68, 4, 19, 31, 57, 84, 23, 55, 67, 43, 77, 81, 79, 76, 12, 73, 83, 97, 30, 37, 82, 48, 96, 33, 69, 98, 21, 46, 81, 74, 12, 27, 25, 79, 75, 57, 87, 2, 22, 24, 84, 75, 88, 76, 49, 23, 88, 68, 17, 71, 67, 3, 93, 43, 6, 91, 12, 71, 40, 3, 39, 82, 11, 15, 57, 98, 87, 75, 78, 42, 39, 93, 84, 34, 84, 1, 83, 13, 68, 20, 59, 33, 92, 89, 42, 81, 8, 90, 95, 65, 18, 74, 32, 13, 70, 22, 32, 60, 6, 36, 24, 32, 97, 67, 41, 67, 36, 47, 34, 35, 37, 53, 60, 19, 3, 77, 95, 65, 6, 58, 65, 29, 52, 17, 86, 4, 69, 11, 89, 62, 91, 54, 93, 31, 7, 91, 53, 30, 6, 63, 98, 26, 53, 81, 12, 51, 9, 58, 48, 11, 81, 1, 13, 36, 58, 7, 22, 37, 46, 80, 22, 39, 83, 8, 68, 32, 82, 33, 25, 13, 39, 29, 43, 63, 78, 51, 44, 76, 46, 37, 54, 1, 26, 74, 87, 76, 100, 34, 14, 37, 52, 92, 33, 81, 77, 19, 93, 80, 90, 31, 86, 38, 57, 29, 69, 65, 96, 55, 48, 59, 100, 15, 67, 59, 98, 10, 19, 50, 58, 74, 22, 33, 6, 52, 82, 50, 82, 7, 22, 35, 17, 46, 3, 50, 36, 12, 25, 68, 50, 100, 25, 45, 57, 64, 56, 76, 48, 16, 51, 5, 87, 12, 52, 25, 11, 77, 93, 17, 5, 67, 90, 100, 10, 71, 81, 86, 60, 83, 48, 38, 19, 33, 92, 89, 82, 25, 52, 65, 80, 83, 46, 80, 1, 71, 26, 73, 71, 73, 40, 82, 43, 23, 74, 13]\n"
          ],
          "name": "stdout"
        },
        {
          "output_type": "display_data",
          "data": {
            "image/png": "[encoded data removed]",
            "text/plain": [
              "<Figure size 432x288 with 1 Axes>"
            ]
          },
          "metadata": {
            "tags": [],
            "needs_background": "light"
          }
        },
        {
          "output_type": "stream",
          "text": [
            "[0.10080164 0.52474321]\n",
            "order  value for 20 = 12.689514341086863\n",
            "order  value for 50 = 261.07956562406866\n",
            "order  value for 70 = 1960.3102097857638\n",
            "order  value for 80 = 5371.564092547787\n",
            "order  value for 90 = 14718.946346508092\n",
            "order  value for 95 = 24364.903873500753\n"
          ],
          "name": "stdout"
        },
        {
          "output_type": "display_data",
          "data": {
            "image/png": "[encoded data removed]",
            "text/plain": [
              "<Figure size 432x288 with 1 Axes>"
            ]
          },
          "metadata": {
            "tags": [],
            "needs_background": "light"
          }
        }
      ]
    },
    {
      "cell_type": "code",
      "metadata": {
        "colab": {
          "base_uri": "https://localhost:8080/"
        },
        "id": "YI0CWCz4LP7N",
        "outputId": "22a3ae54-53e7-4b2d-a5c6-f6c275295924"
      },
      "source": [
        "# !pip install simpy\n",
        "import simpy\n",
        "park_dur = []\n",
        "env = simpy.Environment()\n",
        "env.process(car(env))\n",
        " \n",
        "env.run(until=595)\n",
        "# park_dur = car(env)\n",
        "\n",
        "# print(park_dur)"
      ],
      "execution_count": null,
      "outputs": [
        {
          "output_type": "stream",
          "text": [
            "parking duration= [16705.75203098]\n",
            "parking duration= [34488.21358346]\n",
            "parking duration= [2403.32890667]\n",
            "parking duration= [40802.33310075]\n",
            "parking duration= [10605.62873486]\n",
            "parking duration= [3329.43919163]\n",
            "parking duration= [5548.83179826]\n",
            "parking duration= [20930.94548034]\n",
            "parking duration= [15556.79476125]\n",
            "parking duration= [343.72879246]\n",
            "parking duration= [2378.6165246]\n",
            "parking duration= [399.78210686]\n",
            "parking duration= [489.55708104]\n",
            "parking duration= [2758.60516182]\n",
            "parking duration= [9045.45328435]\n",
            "parking duration= [11401.4295965]\n",
            "parking duration= [5309.89714572]\n",
            "parking duration= [3720.97430094]\n",
            "parking duration= [11638.38569328]\n",
            "parking duration= [11704.22013451]\n",
            "parking duration= [11054.22855101]\n",
            "parking duration= [2066.55116006]\n",
            "parking duration= [4293.79401873]\n",
            "parking duration= [44052.62400121]\n",
            "parking duration= [6168.25931417]\n",
            "parking duration= [2580.35878755]\n",
            "parking duration= [13430.56937109]\n",
            "parking duration= [5745.43996377]\n",
            "parking duration= [13626.55431671]\n",
            "parking duration= [20998.68514144]\n",
            "parking duration= [3399.25007691]\n",
            "parking duration= [5253.86998933]\n",
            "parking duration= [3839.80571821]\n",
            "parking duration= [4897.27974657]\n",
            "parking duration= [7516.89054065]\n",
            "parking duration= [10107.26117776]\n",
            "parking duration= [9183.89781745]\n",
            "parking duration= [1563.49804187]\n",
            "parking duration= [19565.8953817]\n",
            "parking duration= [2184.10276422]\n",
            "parking duration= [9761.93174576]\n",
            "parking duration= [2715.53932534]\n",
            "parking duration= [643.40139431]\n",
            "parking duration= [6315.07474266]\n",
            "parking duration= [2030.48835382]\n",
            "parking duration= [13971.84549014]\n",
            "parking duration= [4859.38775889]\n",
            "parking duration= [26196.04978956]\n",
            "parking duration= [265.73307487]\n",
            "parking duration= [4372.75304169]\n",
            "parking duration= [48.45779574]\n",
            "parking duration= [12301.51595624]\n",
            "parking duration= [3624.85634738]\n",
            "parking duration= [14773.44302446]\n"
          ],
          "name": "stdout"
        }
      ]
    }
  ]
}