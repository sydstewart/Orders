{
  "nbformat": 4,
  "nbformat_minor": 0,
  "metadata": {
    "colab": {
      "name": "Orders in.ipynb",
      "provenance": [],
      "collapsed_sections": [],
      "authorship_tag": "ABX9TyMQRd8ArnonoQtakPEQKVBN",
      "include_colab_link": true
    },
    "kernelspec": {
      "name": "python3",
      "display_name": "Python 3"
    },
    "language_info": {
      "name": "python"
    }
  },
  "cells": [
    {
      "cell_type": "markdown",
      "metadata": {
        "id": "view-in-github",
        "colab_type": "text"
      },
      "source": [
        "<a href=\"https://colab.research.google.com/github/sydstewart/Orders/blob/main/Orders_in.ipynb\" target=\"_parent\"><img src=\"https://colab.research.google.com/assets/colab-badge.svg\" alt=\"Open In Colab\"/></a>"
      ]
    },
    {
      "cell_type": "code",
      "metadata": {
        "colab": {
          "base_uri": "https://localhost:8080/",
          "height": 631
        },
        "id": "7Gq5tK39LFFV",
        "outputId": "c9a95ad3-9f3a-467b-b255-1b1d88a2da3a"
      },
      "source": [
        "\n",
        "!pip install simpy\n",
        "import numpy as np\n",
        "import matplotlib.pyplot as plt\n",
        "import numpy as np\n",
        "from matplotlib import colors\n",
        "from matplotlib.ticker import PercentFormatter\n",
        "import random\n",
        "\n",
        "histdata =[]\n",
        "for x in range(3000):\n",
        "  randnum =  random.randint(1,100) \n",
        "  # print (randnum)\n",
        "  histdata.append(randnum) \n",
        "\n",
        "print(histdata)\n",
        "num_bins = 40 # <- number of bins for the histogram\n",
        "plt.hist(histdata, num_bins)\n",
        "plt.show()\n",
        "\n",
        "y_data = np.array([150,990,2000, 3000,4000, 5000,8000,10200,37000,75000,88000])\n",
        "x_data = np.array([1, 16,37 ,47, 69,75,84,87,95,98,100])\n",
        "for i in [i for i,x in enumerate(x_data) if x >= 92 ]:\n",
        "    print ('i=', i)\n",
        "\n",
        "log_x_data = np.log(x_data),\n",
        "log_y_data = np.log(y_data)\n",
        "\n",
        "\n",
        " \n",
        "curve_fit = np.polyfit(x_data, log_y_data, 1)\n",
        "print(curve_fit)\n",
        "\n",
        "syd = [1,2,3,5,6]\n",
        "np.random.choice(5, 3, replace=False, p=[0.1, 0, 0.3, 0.6, 0])\n",
        "sydarray = np.random.choice(10, 10, replace=False, p=[0.1, 0.1, 0.3, 0.3, 0.2])\n",
        "print('sydarray=', sydarray)\n",
        " \n",
        "# [0.05207022 5.34140151]\n",
        "y = np.exp(6.34140151) * np.exp(0.05407022*x_data)\n",
        "plt.plot(x_data, y_data, \"o\")\n",
        "plt.plot(x_data, y)\n",
        "\n",
        "# y ≈ e^(0.34) * e^(0.09*x)\n",
        "\n",
        "# OUTPUT\n",
        "# [0.09375959 0.34060466]\n",
        "\n",
        "# y = np.exp(0.34) * np.exp(0.09*x_data)\n",
        "# plt.plot(x_data, y_data, \"o\")\n",
        "# plt.plot(x_data, y)\n",
        "# Add line of best fit\n",
        "# curve_fit = np.polyfit(x_data, y_data, 2)\n",
        "# poly = np.poly1d(curve_fit) \n",
        "# print(poly)\n",
        "# print('poly=',poly(50))\n",
        "# y = 19.08* x_data**2 - 1432 * x_data + 1.381e+04\n",
        "# # y = 600  - 1.746e+04\n",
        "# # # 0[0.0547972  4.70976738]\n",
        "# # # [0.05207022 5.34140151]\n",
        "# # y = np.exp(5.34140151) * np.exp(0.05207022*x_data)\n",
        "# plt.plot(x_data, y_data, \"o\")\n",
        "# plt.plot(x_data, y)\n",
        "\n",
        "# # y = np.exp(0.52474321) * np.exp(0.10080164*20)\n",
        "# # print('order  value for 20 =', y )\n",
        "# # y = np.exp(0.52474321) * np.exp(0.10080164*50)\n",
        "# # print('order  value for 50 =', y )\n",
        "# # y = np.exp(0.52474321) * np.exp(0.10080164*70)\n",
        "# # print('order  value for 70 =', y )\n",
        "# # y = np.exp(0.52474321) * np.exp(0.10080164*80)\n",
        "# print('order  value for 80 =', y )\n",
        "# y = np.exp(0.52474321) * np.exp(0.10080164*90)\n",
        "# print('order  value for 90 =', y )\n",
        "# y = np.exp(0.52474321) * np.exp(0.10080164*95)\n",
        "# print('order  value for 95 =', y )\n",
        "# y = np.exp(0.52474321) * np.exp(0.10080164*100)\n",
        "# print('order  value for 100 =', y )\n",
        "\n",
        "# def car(env):\n",
        "#      park_dur = []\n",
        "#      while True:\n",
        "#        #  print('Start parking at %d' % env.now)\n",
        "#          parking_duration = (np.random.exponential(10, 1)) \n",
        "#         #  parking_duration = int(parking_duration)\n",
        "#          print('parking duration=', parking_duration *1000)\n",
        "#         #  park_dur.append = env.timeout(parking_duration)\n",
        "#          yield env.timeout(parking_duration)\n",
        "#         #  plt.hist(parking_duration)\n",
        "        #  plt.show() \n",
        "      # #   print('Start driving at %d' % env.now)\n",
        "      #    trip_duration = 2\n",
        "      #    yield env.timeout(trip_duration)\n",
        "          "
      ],
      "execution_count": 6,
      "outputs": [
        {
          "output_type": "stream",
          "text": [
            "Requirement already satisfied: simpy in /usr/local/lib/python3.7/dist-packages (4.0.1)\n",
            "[61, 1, 87, 83, 10, 41, 23, 15, 15, 12, 10, 73, 83, 36, 36, 15, 10, 47, 42, 91, 98, 48, 47, 16, 63, 48, 38, 91, 81, 21, 94, 80, 53, 12, 35, 5, 96, 87, 72, 83, 78, 92, 100, 31, 16, 47, 18, 3, 55, 73, 1, 15, 63, 64, 27, 96, 29, 73, 20, 18, 4, 79, 57, 59, 55, 62, 6, 60, 26, 70, 92, 36, 25, 76, 34, 96, 42, 40, 7, 11, 34, 17, 84, 19, 53, 53, 23, 84, 84, 3, 20, 64, 5, 20, 60, 73, 47, 24, 77, 96, 63, 87, 22, 54, 68, 34, 26, 54, 96, 17, 53, 52, 34, 11, 38, 57, 5, 64, 10, 12, 42, 25, 99, 57, 30, 92, 64, 52, 95, 23, 51, 55, 29, 7, 27, 31, 60, 36, 14, 13, 48, 90, 9, 68, 44, 1, 65, 44, 4, 6, 76, 11, 58, 98, 53, 98, 1, 86, 28, 87, 76, 39, 83, 89, 32, 6, 5, 76, 23, 32, 35, 30, 45, 9, 83, 39, 74, 93, 18, 91, 5, 36, 75, 45, 60, 55, 40, 36, 22, 55, 49, 96, 3, 1, 22, 14, 94, 51, 84, 74, 46, 66, 6, 30, 13, 71, 85, 49, 66, 96, 97, 55, 48, 18, 70, 66, 67, 64, 58, 90, 55, 80, 51, 38, 73, 60, 12, 86, 49, 34, 35, 87, 7, 83, 87, 23, 48, 65, 4, 79, 70, 66, 14, 10, 61, 44, 94, 72, 14, 46, 18, 20, 4, 57, 35, 65, 50, 22, 89, 16, 27, 48, 28, 70, 34, 17, 44, 2, 67, 73, 40, 30, 37, 68, 19, 55, 3, 85, 35, 1, 58, 47, 19, 99, 63, 36, 9, 87, 49, 69, 53, 16, 3, 77, 80, 48, 67, 95, 54, 1, 23, 23, 2, 83, 57, 56, 85, 88, 62, 58, 2, 26, 41, 42, 65, 25, 9, 47, 41, 19, 99, 35, 2, 25, 45, 85, 55, 67, 86, 66, 76, 49, 51, 26, 63, 87, 20, 62, 72, 93, 45, 30, 42, 84, 71, 70, 79, 84, 98, 79, 58, 36, 55, 5, 22, 80, 9, 68, 56, 17, 98, 44, 37, 73, 76, 86, 49, 4, 54, 40, 45, 50, 2, 91, 76, 36, 64, 53, 91, 79, 88, 70, 60, 60, 57, 17, 42, 23, 56, 3, 21, 36, 20, 79, 15, 32, 85, 98, 11, 63, 21, 93, 83, 87, 35, 62, 81, 4, 23, 17, 3, 67, 6, 88, 82, 33, 19, 55, 24, 12, 82, 50, 38, 35, 51, 63, 93, 48, 98, 29, 41, 38, 34, 59, 90, 35, 69, 54, 31, 31, 83, 58, 94, 79, 99, 57, 73, 55, 65, 13, 57, 22, 29, 87, 71, 35, 95, 14, 31, 89, 80, 74, 16, 14, 99, 11, 25, 54, 1, 40, 46, 14, 21, 72, 86, 47, 7, 12, 52, 38, 34, 53, 32, 92, 98, 50, 13, 91, 66, 81, 66, 1, 99, 67, 93, 65, 43, 92, 4, 81, 99, 94, 66, 11, 94, 7, 79, 76, 17, 19, 52, 18, 83, 45, 52, 35, 10, 74, 72, 85, 86, 10, 100, 6, 57, 85, 36, 93, 74, 30, 11, 91, 60, 58, 29, 54, 12, 53, 56, 69, 1, 79, 78, 88, 84, 98, 65, 83, 28, 44, 65, 94, 7, 24, 50, 38, 56, 98, 66, 80, 27, 51, 24, 77, 1, 91, 98, 70, 62, 96, 19, 66, 6, 56, 11, 34, 3, 7, 99, 15, 11, 35, 81, 26, 96, 45, 2, 50, 71, 71, 75, 57, 70, 58, 73, 89, 59, 29, 34, 90, 54, 40, 95, 25, 26, 28, 58, 93, 85, 79, 52, 14, 41, 72, 3, 26, 96, 3, 16, 57, 25, 77, 72, 74, 15, 8, 8, 86, 40, 19, 80, 41, 52, 36, 21, 43, 30, 37, 85, 50, 44, 98, 30, 4, 8, 21, 83, 90, 22, 39, 3, 62, 65, 99, 27, 92, 45, 69, 77, 62, 4, 85, 82, 74, 33, 90, 68, 82, 91, 100, 9, 53, 4, 90, 57, 8, 50, 2, 99, 27, 54, 50, 79, 1, 96, 50, 52, 4, 63, 46, 55, 67, 98, 88, 27, 1, 58, 40, 66, 48, 17, 90, 9, 35, 25, 66, 15, 9, 30, 98, 55, 26, 39, 14, 86, 66, 52, 91, 42, 15, 17, 25, 40, 64, 20, 92, 91, 11, 78, 45, 17, 4, 100, 94, 20, 92, 79, 34, 89, 31, 24, 22, 80, 46, 100, 91, 28, 22, 44, 81, 88, 13, 41, 43, 5, 22, 79, 87, 72, 93, 60, 52, 97, 38, 15, 74, 73, 48, 81, 98, 92, 75, 47, 40, 65, 91, 92, 12, 13, 18, 87, 57, 67, 62, 12, 51, 90, 68, 85, 9, 50, 96, 65, 78, 82, 33, 61, 26, 87, 91, 75, 23, 80, 64, 70, 12, 21, 51, 51, 21, 23, 72, 63, 43, 58, 55, 52, 16, 85, 59, 5, 71, 36, 76, 85, 60, 86, 43, 35, 83, 2, 68, 47, 35, 39, 53, 14, 34, 25, 48, 43, 88, 84, 69, 46, 37, 96, 28, 31, 11, 18, 87, 11, 98, 94, 34, 28, 28, 76, 29, 17, 57, 77, 65, 58, 29, 67, 15, 57, 11, 54, 6, 25, 59, 88, 43, 45, 56, 71, 70, 49, 48, 46, 9, 92, 12, 8, 91, 31, 69, 47, 34, 1, 62, 38, 63, 26, 46, 10, 24, 34, 57, 42, 42, 74, 52, 68, 7, 24, 59, 4, 7, 44, 98, 46, 8, 40, 37, 1, 85, 72, 90, 7, 64, 26, 41, 55, 13, 33, 64, 95, 14, 53, 46, 4, 20, 36, 18, 21, 40, 44, 54, 17, 11, 83, 64, 33, 54, 49, 35, 62, 46, 48, 92, 49, 47, 57, 69, 69, 21, 14, 81, 85, 50, 82, 77, 29, 9, 45, 33, 32, 100, 74, 25, 55, 69, 43, 2, 20, 1, 15, 32, 94, 26, 79, 66, 6, 10, 22, 16, 90, 74, 5, 35, 95, 2, 71, 14, 45, 23, 30, 44, 86, 48, 95, 44, 55, 60, 21, 73, 39, 26, 12, 64, 13, 48, 83, 19, 53, 4, 28, 61, 50, 44, 8, 10, 23, 78, 51, 5, 77, 17, 78, 19, 18, 90, 75, 87, 35, 89, 23, 1, 30, 74, 83, 60, 99, 85, 99, 59, 21, 98, 27, 81, 77, 28, 9, 43, 49, 69, 17, 11, 81, 19, 91, 57, 51, 32, 90, 79, 25, 73, 83, 84, 74, 63, 36, 91, 64, 61, 54, 52, 98, 35, 75, 9, 77, 49, 34, 23, 41, 86, 32, 74, 31, 30, 48, 17, 26, 64, 24, 36, 74, 38, 64, 8, 31, 71, 34, 50, 99, 22, 73, 67, 70, 78, 86, 91, 67, 84, 70, 95, 3, 9, 56, 26, 27, 3, 55, 67, 12, 48, 27, 89, 21, 16, 61, 36, 82, 8, 22, 88, 85, 89, 55, 82, 5, 34, 24, 88, 30, 84, 15, 30, 35, 8, 42, 88, 92, 54, 40, 4, 85, 32, 97, 19, 44, 72, 57, 14, 7, 74, 39, 59, 34, 97, 77, 4, 78, 78, 41, 65, 72, 63, 22, 40, 67, 6, 77, 45, 40, 26, 26, 45, 75, 60, 50, 2, 28, 96, 85, 87, 29, 47, 98, 11, 99, 99, 39, 7, 14, 12, 82, 61, 62, 3, 85, 10, 87, 28, 10, 69, 24, 28, 7, 21, 12, 55, 76, 55, 38, 84, 44, 68, 84, 1, 95, 47, 19, 42, 68, 2, 17, 37, 42, 90, 24, 21, 10, 22, 64, 53, 70, 2, 14, 40, 86, 39, 81, 33, 59, 100, 48, 43, 20, 72, 52, 67, 44, 40, 72, 8, 2, 38, 43, 71, 58, 88, 48, 3, 49, 34, 38, 25, 22, 29, 64, 81, 15, 12, 4, 31, 54, 69, 55, 8, 62, 34, 28, 18, 77, 52, 5, 37, 62, 14, 91, 12, 92, 85, 98, 67, 15, 72, 60, 99, 9, 69, 68, 19, 99, 72, 29, 41, 73, 99, 47, 62, 99, 22, 18, 31, 39, 88, 10, 33, 40, 49, 5, 18, 82, 16, 21, 43, 54, 36, 44, 83, 19, 37, 64, 16, 45, 36, 47, 73, 94, 70, 32, 43, 73, 26, 88, 4, 81, 76, 40, 46, 9, 71, 27, 81, 31, 32, 78, 68, 23, 52, 64, 34, 19, 61, 8, 49, 70, 39, 18, 48, 69, 26, 74, 51, 49, 90, 46, 42, 36, 47, 65, 47, 46, 39, 50, 100, 67, 82, 22, 59, 97, 9, 64, 33, 9, 99, 77, 25, 9, 18, 25, 65, 44, 79, 41, 47, 77, 76, 3, 85, 4, 3, 34, 38, 31, 24, 56, 31, 92, 69, 99, 57, 56, 78, 30, 80, 15, 86, 76, 83, 74, 73, 55, 21, 13, 45, 26, 24, 32, 72, 38, 38, 74, 18, 52, 63, 97, 1, 59, 50, 22, 32, 20, 94, 1, 66, 34, 32, 5, 43, 7, 61, 32, 22, 94, 47, 49, 32, 91, 31, 20, 71, 59, 19, 62, 72, 19, 50, 3, 33, 50, 82, 23, 49, 49, 67, 8, 2, 96, 80, 8, 94, 44, 70, 14, 81, 36, 36, 83, 24, 26, 44, 75, 31, 50, 5, 59, 59, 88, 44, 20, 21, 13, 93, 33, 88, 84, 76, 54, 53, 83, 68, 53, 62, 55, 20, 70, 67, 33, 89, 58, 89, 36, 33, 80, 63, 47, 84, 65, 8, 96, 18, 65, 60, 56, 69, 1, 71, 17, 96, 77, 73, 56, 75, 65, 98, 66, 6, 81, 86, 45, 56, 57, 47, 22, 92, 68, 62, 22, 20, 86, 19, 44, 11, 81, 9, 53, 27, 47, 8, 59, 48, 69, 1, 25, 88, 59, 76, 36, 52, 22, 16, 79, 98, 28, 16, 44, 22, 13, 51, 85, 85, 7, 99, 70, 93, 96, 39, 67, 24, 26, 55, 27, 79, 46, 58, 80, 1, 17, 83, 37, 60, 97, 60, 76, 57, 83, 5, 42, 94, 70, 20, 43, 25, 21, 59, 84, 17, 14, 56, 28, 56, 57, 59, 52, 71, 75, 43, 86, 9, 40, 50, 96, 33, 63, 47, 80, 60, 46, 3, 4, 99, 68, 84, 73, 83, 91, 67, 96, 11, 67, 77, 53, 51, 76, 42, 99, 90, 85, 36, 35, 91, 71, 65, 63, 18, 69, 71, 66, 48, 39, 3, 85, 79, 2, 32, 22, 44, 78, 95, 12, 57, 95, 33, 60, 86, 64, 31, 48, 9, 39, 14, 83, 85, 73, 9, 36, 10, 50, 38, 10, 9, 67, 16, 3, 85, 20, 82, 33, 67, 61, 28, 82, 84, 57, 4, 71, 51, 72, 36, 50, 60, 41, 14, 32, 47, 15, 57, 95, 14, 24, 60, 42, 80, 29, 76, 13, 16, 58, 77, 42, 67, 13, 48, 41, 38, 37, 21, 28, 51, 80, 69, 60, 100, 54, 75, 37, 98, 10, 80, 79, 42, 90, 96, 69, 25, 76, 9, 20, 27, 96, 65, 44, 56, 50, 42, 45, 88, 9, 72, 63, 29, 72, 87, 42, 12, 25, 40, 23, 41, 4, 28, 92, 51, 31, 65, 16, 32, 70, 21, 97, 23, 92, 77, 43, 65, 29, 95, 92, 70, 23, 61, 82, 51, 11, 71, 78, 25, 72, 38, 41, 13, 69, 83, 66, 31, 56, 5, 43, 35, 57, 86, 26, 33, 60, 76, 21, 9, 39, 50, 7, 88, 46, 85, 32, 4, 45, 38, 83, 26, 46, 73, 58, 23, 80, 58, 49, 82, 22, 4, 63, 86, 11, 96, 7, 45, 79, 86, 97, 41, 88, 96, 80, 66, 87, 77, 41, 98, 91, 77, 43, 9, 12, 58, 92, 84, 79, 36, 55, 44, 57, 2, 70, 93, 76, 62, 62, 71, 4, 91, 85, 10, 3, 26, 84, 81, 89, 59, 9, 11, 57, 88, 57, 18, 18, 44, 74, 33, 48, 16, 70, 92, 71, 44, 34, 6, 2, 87, 59, 15, 1, 80, 89, 40, 14, 89, 97, 37, 98, 100, 45, 21, 78, 83, 39, 4, 29, 11, 78, 87, 77, 78, 100, 73, 20, 32, 85, 24, 93, 59, 82, 88, 43, 23, 62, 92, 37, 95, 81, 10, 81, 72, 86, 24, 8, 78, 95, 24, 5, 43, 86, 94, 36, 48, 55, 20, 61, 61, 91, 63, 7, 87, 66, 90, 35, 64, 49, 61, 6, 18, 27, 82, 35, 25, 42, 94, 78, 75, 42, 83, 53, 72, 31, 5, 94, 74, 46, 51, 41, 5, 71, 49, 9, 26, 14, 10, 91, 77, 94, 11, 18, 6, 69, 63, 64, 4, 45, 84, 31, 31, 91, 11, 94, 84, 62, 53, 47, 54, 55, 63, 43, 24, 15, 45, 25, 70, 70, 87, 25, 94, 61, 37, 89, 36, 26, 17, 93, 22, 80, 36, 48, 52, 56, 54, 81, 25, 13, 34, 89, 51, 26, 72, 92, 63, 13, 55, 30, 40, 23, 10, 33, 62, 85, 84, 44, 99, 80, 97, 50, 51, 87, 19, 6, 28, 94, 85, 92, 56, 41, 28, 5, 77, 24, 86, 9, 46, 50, 84, 11, 9, 87, 60, 100, 7, 96, 98, 52, 13, 92, 77, 51, 48, 3, 76, 26, 57, 94, 36, 83, 77, 7, 53, 26, 90, 19, 47, 4, 23, 7, 13, 23, 14, 97, 47, 70, 64, 42, 72, 15, 55, 40, 40, 68, 28, 6, 57, 60, 23, 17, 15, 81, 1, 31, 26, 37, 57, 48, 85, 33, 31, 92, 82, 17, 47, 95, 5, 14, 91, 54, 76, 36, 3, 21, 95, 63, 12, 66, 85, 63, 94, 32, 44, 98, 11, 62, 40, 69, 16, 14, 71, 63, 40, 40, 10, 81, 7, 19, 72, 84, 57, 22, 59, 61, 48, 87, 54, 1, 35, 96, 80, 1, 49, 56, 22, 92, 24, 89, 31, 60, 57, 98, 59, 74, 99, 27, 82, 4, 6, 55, 24, 24, 81, 21, 81, 5, 18, 20, 74, 19, 11, 39, 26, 43, 53, 79, 84, 84, 57, 4, 11, 65, 12, 48, 22, 6, 84, 81, 82, 73, 71, 34, 100, 4, 54, 19, 93, 91, 75, 34, 8, 59, 99, 16, 46, 44, 34, 43, 30, 2, 33, 2, 43, 77, 6, 73, 83, 10, 44, 30, 8, 51, 79, 31, 15, 56, 29, 59, 89, 22, 72, 33, 82, 14, 3, 37, 73, 27, 39, 8, 9, 37, 19, 10, 68, 73, 28, 34, 41, 96, 12, 56, 82, 25, 37, 63, 9, 71, 69, 10, 85, 78, 74, 82, 50, 73, 94, 5, 62, 45, 47, 56, 82, 29, 84, 5, 38, 47, 54, 75, 87, 54, 63, 17, 5, 47, 34, 74, 65, 58, 76, 64, 1, 7, 79, 21, 21, 89, 58, 7, 4, 12, 45, 57, 91, 96, 50, 81, 41, 48, 79, 62, 64, 70, 72, 52, 9, 19, 63, 61, 1, 29, 72, 96, 13, 85, 39, 83, 21, 80, 12, 77, 22, 66, 48, 59, 9, 12, 88, 71, 8, 24, 10, 40, 74, 28, 14, 6, 79, 38, 18, 82, 9, 73, 82, 87, 14, 2, 16, 34, 72, 14, 29, 82, 54, 48, 47, 82, 27, 43, 88, 17, 41, 76, 69, 80, 99, 71, 14, 64, 70, 30, 37, 74, 75, 91, 71, 31, 40, 20, 38, 94, 70, 11, 15, 7, 82, 30, 41, 2, 15, 9, 76, 24, 95, 90, 93, 94, 50, 6, 56, 47, 6, 7, 17, 81, 62, 54, 24, 83, 91, 36, 77, 33, 82, 81, 31, 71, 2, 49, 67, 65, 57, 96, 37, 40, 85, 20, 58, 31, 60, 97, 53, 70, 35, 86, 98, 39, 75, 77, 54, 87, 12, 29, 69, 90, 62, 41, 62, 11, 51, 57, 35, 93, 69, 12, 67, 82, 10, 57, 27, 53, 19, 13, 65, 15, 94, 94, 63, 80, 31, 40, 52, 72, 19, 53, 92, 73, 30, 9, 25, 83, 75, 42, 48, 1, 9, 33, 40, 81, 24, 35, 46, 58, 23, 83, 77, 4, 42, 34, 21, 41, 94, 28, 7, 80, 37, 100, 4, 5, 89, 2, 89, 93, 89, 15, 54, 76, 90, 85, 16, 13, 14, 100, 81, 88, 40, 82, 20, 64, 37, 62, 81, 59, 25, 85, 45, 12, 40, 96, 48, 51, 15, 26, 93, 5, 55, 46, 31, 70, 47, 38, 56, 70, 46, 10, 72, 82, 21, 80, 94, 42, 5, 88, 30, 64, 35, 1, 4, 39, 28, 51, 69, 99, 66, 4, 53, 33, 77, 89, 95, 3, 55, 73, 93, 2, 47, 47, 57, 79, 29, 94, 31, 64, 13, 45, 71, 76, 10, 76, 7, 51, 75, 71, 65, 32, 29, 1, 88, 47, 44, 7, 1, 27, 13, 92, 95, 48, 12, 8, 30, 59, 42, 56, 15, 3, 23, 77, 76, 74, 38, 95, 54, 66, 10, 89, 42, 28, 91, 22, 30, 38, 49, 90, 59, 78, 51, 61, 39, 95, 95, 55, 69, 1, 65, 92, 11, 100, 50, 45, 36, 68, 51, 21, 50, 96, 17, 9, 84, 96, 57, 85, 57, 30, 16, 87, 92, 20, 95, 60, 6, 88, 6, 70, 2, 96, 45, 31, 58, 78, 86, 12, 87, 41, 46, 13, 75, 34, 56, 7, 99, 35, 17, 73, 66, 10, 40, 25, 67, 81, 26, 91, 32, 43, 26, 34, 97, 10, 50, 90, 43, 57, 30, 58, 21, 19, 99, 75, 1, 36, 46, 22, 48, 19, 88, 4, 73, 58, 99, 53, 32, 30, 26, 34, 40, 22, 87, 88, 61, 37, 39, 55, 59, 69, 24, 28, 28, 67, 74, 93, 66, 65, 44, 61, 61, 61, 47, 73, 4, 94, 55, 100, 68, 34, 64, 5, 93, 90, 98, 82, 94, 11, 41, 65, 93, 17, 55, 63, 59, 57, 1, 26, 27, 17, 100, 46, 94, 51, 46, 59, 19, 79, 75, 39, 27, 58, 88, 76, 79, 70, 44, 46, 51, 69, 99, 51, 57, 30, 65, 74, 30, 24, 32, 76, 26, 22, 44, 35, 28, 68, 46, 80, 75, 95, 65, 52, 62, 38, 94, 68, 96, 21, 64, 92, 12, 60, 17, 64, 66, 85, 82, 45, 7, 97, 10, 35, 9, 22, 79, 100, 92, 71, 53]\n"
          ],
          "name": "stdout"
        },
        {
          "output_type": "display_data",
          "data": {
            "image/png": "[encoded data removed]",
            "text/plain": [
              "<Figure size 432x288 with 1 Axes>"
            ]
          },
          "metadata": {
            "tags": [],
            "needs_background": "light"
          }
        },
        {
          "output_type": "stream",
          "text": [
            "i= 8\n",
            "i= 9\n",
            "i= 10\n",
            "[0.05207022 5.34140151]\n"
          ],
          "name": "stdout"
        },
        {
          "output_type": "error",
          "ename": "ValueError",
          "evalue": "ignored",
          "traceback": [
            "\u001b[0;31m---------------------------------------------------------------------------\u001b[0m",
            "\u001b[0;31mValueError\u001b[0m                                Traceback (most recent call last)",
            "\u001b[0;32m<ipython-input-6-e2e32e04fd09>\u001b[0m in \u001b[0;36m<module>\u001b[0;34m()\u001b[0m\n\u001b[1;32m     34\u001b[0m \u001b[0msyd\u001b[0m \u001b[0;34m=\u001b[0m \u001b[0;34m[\u001b[0m\u001b[0;36m1\u001b[0m\u001b[0;34m,\u001b[0m\u001b[0;36m2\u001b[0m\u001b[0;34m,\u001b[0m\u001b[0;36m3\u001b[0m\u001b[0;34m,\u001b[0m\u001b[0;36m5\u001b[0m\u001b[0;34m,\u001b[0m\u001b[0;36m6\u001b[0m\u001b[0;34m]\u001b[0m\u001b[0;34m\u001b[0m\u001b[0;34m\u001b[0m\u001b[0m\n\u001b[1;32m     35\u001b[0m \u001b[0mnp\u001b[0m\u001b[0;34m.\u001b[0m\u001b[0mrandom\u001b[0m\u001b[0;34m.\u001b[0m\u001b[0mchoice\u001b[0m\u001b[0;34m(\u001b[0m\u001b[0;36m5\u001b[0m\u001b[0;34m,\u001b[0m \u001b[0;36m3\u001b[0m\u001b[0;34m,\u001b[0m \u001b[0mreplace\u001b[0m\u001b[0;34m=\u001b[0m\u001b[0;32mFalse\u001b[0m\u001b[0;34m,\u001b[0m \u001b[0mp\u001b[0m\u001b[0;34m=\u001b[0m\u001b[0;34m[\u001b[0m\u001b[0;36m0.1\u001b[0m\u001b[0;34m,\u001b[0m \u001b[0;36m0\u001b[0m\u001b[0;34m,\u001b[0m \u001b[0;36m0.3\u001b[0m\u001b[0;34m,\u001b[0m \u001b[0;36m0.6\u001b[0m\u001b[0;34m,\u001b[0m \u001b[0;36m0\u001b[0m\u001b[0;34m]\u001b[0m\u001b[0;34m)\u001b[0m\u001b[0;34m\u001b[0m\u001b[0;34m\u001b[0m\u001b[0m\n\u001b[0;32m---> 36\u001b[0;31m \u001b[0msydarray\u001b[0m \u001b[0;34m=\u001b[0m \u001b[0mnp\u001b[0m\u001b[0;34m.\u001b[0m\u001b[0mrandom\u001b[0m\u001b[0;34m.\u001b[0m\u001b[0mchoice\u001b[0m\u001b[0;34m(\u001b[0m\u001b[0;36m10\u001b[0m\u001b[0;34m,\u001b[0m \u001b[0;36m10\u001b[0m\u001b[0;34m,\u001b[0m \u001b[0mreplace\u001b[0m\u001b[0;34m=\u001b[0m\u001b[0;32mFalse\u001b[0m\u001b[0;34m,\u001b[0m \u001b[0mp\u001b[0m\u001b[0;34m=\u001b[0m\u001b[0;34m[\u001b[0m\u001b[0;36m0.1\u001b[0m\u001b[0;34m,\u001b[0m \u001b[0;36m0.1\u001b[0m\u001b[0;34m,\u001b[0m \u001b[0;36m0.3\u001b[0m\u001b[0;34m,\u001b[0m \u001b[0;36m0.3\u001b[0m\u001b[0;34m,\u001b[0m \u001b[0;36m0.2\u001b[0m\u001b[0;34m]\u001b[0m\u001b[0;34m)\u001b[0m\u001b[0;34m\u001b[0m\u001b[0;34m\u001b[0m\u001b[0m\n\u001b[0m\u001b[1;32m     37\u001b[0m \u001b[0mprint\u001b[0m\u001b[0;34m(\u001b[0m\u001b[0;34m'sydarray='\u001b[0m\u001b[0;34m,\u001b[0m \u001b[0msydarray\u001b[0m\u001b[0;34m)\u001b[0m\u001b[0;34m\u001b[0m\u001b[0;34m\u001b[0m\u001b[0m\n\u001b[1;32m     38\u001b[0m \u001b[0;34m\u001b[0m\u001b[0m\n",
            "\u001b[0;32mmtrand.pyx\u001b[0m in \u001b[0;36mnumpy.random.mtrand.RandomState.choice\u001b[0;34m()\u001b[0m\n",
            "\u001b[0;31mValueError\u001b[0m: 'a' and 'p' must have same size"
          ]
        }
      ]
    },
    {
      "cell_type": "code",
      "metadata": {
        "colab": {
          "base_uri": "https://localhost:8080/"
        },
        "id": "JV3t0PJkxuvl",
        "outputId": "d57da874-a04a-4bd3-d509-7322fdc15bd5"
      },
      "source": [
        "!pip install simpy\n",
        "import simpy\n",
        "\n",
        "def main():\n",
        "    env = simpy.Environment()\n",
        "    env.process(traffic_light(env))\n",
        "    env.run(until=300)\n",
        "    print(\"Simulation complete\")\n",
        "\n",
        "def traffic_light(env):\n",
        "    while True:\n",
        "        print(\"Light turned GRN at t= \"+str(env.now))\n",
        "        yield env.timeout(30)\n",
        "        print(\"Light turned YEL at t= \"+str(env.now))\n",
        "        yield env.timeout(50)\n",
        "        print(\"Light turned RED at t= \"+str(env.now))\n",
        "        yield env.timeout(20)\n",
        "\n",
        "if __name__ == '__main__':\n",
        "    main()"
      ],
      "execution_count": 2,
      "outputs": [
        {
          "output_type": "stream",
          "text": [
            "Requirement already satisfied: simpy in /usr/local/lib/python3.7/dist-packages (4.0.1)\n",
            "Light turned GRN at t= 0\n",
            "Light turned YEL at t= 30\n",
            "Light turned RED at t= 80\n",
            "Light turned GRN at t= 100\n",
            "Light turned YEL at t= 130\n",
            "Light turned RED at t= 180\n",
            "Light turned GRN at t= 200\n",
            "Light turned YEL at t= 230\n",
            "Light turned RED at t= 280\n",
            "Simulation complete\n"
          ],
          "name": "stdout"
        }
      ]
    },
    {
      "cell_type": "code",
      "metadata": {
        "colab": {
          "base_uri": "https://localhost:8080/"
        },
        "id": "mFSeq9qtp64m",
        "outputId": "fa7e2dfe-03d1-41e5-d97e-004c4d99698f"
      },
      "source": [
        "\"\"\"Companion code to https://realpython.com/simulation-with-simpy/\n",
        "'Simulating Real-World Processes With SimPy'\n",
        "Python version: 3.7.3\n",
        "SimPy version: 3.0.11\n",
        "\"\"\"\n",
        "!pip install simpy\n",
        "import simpy\n",
        "import random\n",
        "import statistics\n",
        "\n",
        "wait_times = []\n",
        "\n",
        "\n",
        "class Theater(object):\n",
        "    def __init__(self, env, num_cashiers, num_servers, num_ushers):\n",
        "        self.env = env\n",
        "        self.cashier = simpy.Resource(env, num_cashiers)\n",
        "        self.server = simpy.Resource(env, num_servers)\n",
        "        self.usher = simpy.Resource(env, num_ushers)\n",
        "\n",
        "    def purchase_ticket(self, moviegoer):\n",
        "        yield self.env.timeout(random.randint(1, 3))\n",
        "\n",
        "    def check_ticket(self, moviegoer):\n",
        "        yield self.env.timeout(3 / 60)\n",
        "\n",
        "    def sell_food(self, moviegoer):\n",
        "        yield self.env.timeout(random.randint(1, 5))\n",
        "\n",
        "\n",
        "def go_to_movies(env, moviegoer, theater):\n",
        "    # Moviegoer arrives at the theater\n",
        "    arrival_time = env.now\n",
        "\n",
        "    with theater.cashier.request() as request:\n",
        "        yield request\n",
        "        yield env.process(theater.purchase_ticket(moviegoer))\n",
        "\n",
        "    with theater.usher.request() as request:\n",
        "        yield request\n",
        "        yield env.process(theater.check_ticket(moviegoer))\n",
        "\n",
        "    if random.choice([True, False]):\n",
        "        with theater.server.request() as request:\n",
        "            yield request\n",
        "            yield env.process(theater.sell_food(moviegoer))\n",
        "\n",
        "    # Moviegoer heads into the theater\n",
        "    wait_times.append(env.now - arrival_time)\n",
        "\n",
        "\n",
        "def run_theater(env, num_cashiers, num_servers, num_ushers):\n",
        "    theater = Theater(env, num_cashiers, num_servers, num_ushers)\n",
        "\n",
        "    for moviegoer in range(3):\n",
        "        env.process(go_to_movies(env, moviegoer, theater))\n",
        "\n",
        "    while True:\n",
        "        yield env.timeout(0.20)  # Wait a bit before generating a new person\n",
        "\n",
        "        moviegoer += 1\n",
        "        env.process(go_to_movies(env, moviegoer, theater))\n",
        "\n",
        "\n",
        "def get_average_wait_time(wait_times):\n",
        "    average_wait = statistics.mean(wait_times)\n",
        "    # Pretty print the results\n",
        "    minutes, frac_minutes = divmod(average_wait, 1)\n",
        "    seconds = frac_minutes * 60\n",
        "    return round(minutes), round(seconds)\n",
        "\n",
        "\n",
        "def get_user_input():\n",
        "    num_cashiers = input(\"Input # of cashiers working: \")\n",
        "    num_servers = input(\"Input # of servers working: \")\n",
        "    num_ushers = input(\"Input # of ushers working: \")\n",
        "    params = [num_cashiers, num_servers, num_ushers]\n",
        "    if all(str(i).isdigit() for i in params):  # Check input is valid\n",
        "        params = [int(x) for x in params]\n",
        "    else:\n",
        "        print(\n",
        "            \"Could not parse input. Simulation will use default values:\",\n",
        "            \"\\n1 cashier, 1 server, 1 usher.\",\n",
        "        )\n",
        "        params = [1, 1, 1]\n",
        "    return params\n",
        "\n",
        "\n",
        "def main():\n",
        "    # Setup\n",
        "    random.seed(42)\n",
        "    num_cashiers, num_servers, num_ushers = get_user_input()\n",
        "\n",
        "    # Run the simulation\n",
        "    env = simpy.Environment()\n",
        "    env.process(run_theater(env, num_cashiers, num_servers, num_ushers))\n",
        "    env.run(until=90)\n",
        "\n",
        "    # View the results\n",
        "    mins, secs = get_average_wait_time(wait_times)\n",
        "    print(\n",
        "        \"Running simulation...\",\n",
        "        f\"\\nThe average wait time is {mins} minutes and {secs} seconds.\",\n",
        "    )\n",
        "\n",
        "\n",
        "if __name__ == \"__main__\":\n",
        "    main()"
      ],
      "execution_count": 12,
      "outputs": [
        {
          "output_type": "stream",
          "text": [
            "Requirement already satisfied: simpy in /usr/local/lib/python3.7/dist-packages (4.0.1)\n",
            "Input # of cashiers working: 9\n",
            "Input # of servers working: 1\n",
            "Input # of ushers working: 2\n",
            "Running simulation... \n",
            "The average wait time is 10 minutes and 2 seconds.\n"
          ],
          "name": "stdout"
        }
      ]
    },
    {
      "cell_type": "code",
      "metadata": {
        "id": "mssfC1ZfqIf8"
      },
      "source": [
        ""
      ],
      "execution_count": 37,
      "outputs": []
    },
    {
      "cell_type": "code",
      "metadata": {
        "colab": {
          "base_uri": "https://localhost:8080/"
        },
        "id": "YI0CWCz4LP7N",
        "outputId": "22a3ae54-53e7-4b2d-a5c6-f6c275295924"
      },
      "source": [
        "# !pip install simpy\n",
        "import simpy\n",
        "park_dur = []\n",
        "env = simpy.Environment()\n",
        "env.process(car(env))\n",
        " \n",
        "env.run(until=595)\n",
        "# park_dur = car(env)\n",
        "\n",
        "# print(park_dur)"
      ],
      "execution_count": null,
      "outputs": [
        {
          "output_type": "stream",
          "text": [
            "parking duration= [16705.75203098]\n",
            "parking duration= [34488.21358346]\n",
            "parking duration= [2403.32890667]\n",
            "parking duration= [40802.33310075]\n",
            "parking duration= [10605.62873486]\n",
            "parking duration= [3329.43919163]\n",
            "parking duration= [5548.83179826]\n",
            "parking duration= [20930.94548034]\n",
            "parking duration= [15556.79476125]\n",
            "parking duration= [343.72879246]\n",
            "parking duration= [2378.6165246]\n",
            "parking duration= [399.78210686]\n",
            "parking duration= [489.55708104]\n",
            "parking duration= [2758.60516182]\n",
            "parking duration= [9045.45328435]\n",
            "parking duration= [11401.4295965]\n",
            "parking duration= [5309.89714572]\n",
            "parking duration= [3720.97430094]\n",
            "parking duration= [11638.38569328]\n",
            "parking duration= [11704.22013451]\n",
            "parking duration= [11054.22855101]\n",
            "parking duration= [2066.55116006]\n",
            "parking duration= [4293.79401873]\n",
            "parking duration= [44052.62400121]\n",
            "parking duration= [6168.25931417]\n",
            "parking duration= [2580.35878755]\n",
            "parking duration= [13430.56937109]\n",
            "parking duration= [5745.43996377]\n",
            "parking duration= [13626.55431671]\n",
            "parking duration= [20998.68514144]\n",
            "parking duration= [3399.25007691]\n",
            "parking duration= [5253.86998933]\n",
            "parking duration= [3839.80571821]\n",
            "parking duration= [4897.27974657]\n",
            "parking duration= [7516.89054065]\n",
            "parking duration= [10107.26117776]\n",
            "parking duration= [9183.89781745]\n",
            "parking duration= [1563.49804187]\n",
            "parking duration= [19565.8953817]\n",
            "parking duration= [2184.10276422]\n",
            "parking duration= [9761.93174576]\n",
            "parking duration= [2715.53932534]\n",
            "parking duration= [643.40139431]\n",
            "parking duration= [6315.07474266]\n",
            "parking duration= [2030.48835382]\n",
            "parking duration= [13971.84549014]\n",
            "parking duration= [4859.38775889]\n",
            "parking duration= [26196.04978956]\n",
            "parking duration= [265.73307487]\n",
            "parking duration= [4372.75304169]\n",
            "parking duration= [48.45779574]\n",
            "parking duration= [12301.51595624]\n",
            "parking duration= [3624.85634738]\n",
            "parking duration= [14773.44302446]\n"
          ],
          "name": "stdout"
        }
      ]
    }
  ]
}