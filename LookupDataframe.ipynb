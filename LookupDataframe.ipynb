{
  "nbformat": 4,
  "nbformat_minor": 0,
  "metadata": {
    "colab": {
      "name": "LookupDataframe.ipynb",
      "provenance": [],
      "collapsed_sections": [],
      "authorship_tag": "ABX9TyMMCBGYx22rFmNvOP8O26bL",
      "include_colab_link": true
    },
    "kernelspec": {
      "name": "python3",
      "display_name": "Python 3"
    },
    "language_info": {
      "name": "python"
    }
  },
  "cells": [
    {
      "cell_type": "markdown",
      "metadata": {
        "id": "view-in-github",
        "colab_type": "text"
      },
      "source": [
        "<a href=\"https://colab.research.google.com/github/sydstewart/Orders/blob/main/LookupDataframe.ipynb\" target=\"_parent\"><img src=\"https://colab.research.google.com/assets/colab-badge.svg\" alt=\"Open In Colab\"/></a>"
      ]
    },
    {
      "cell_type": "code",
      "metadata": {
        "id": "nbq_RdjCDv8n"
      },
      "source": [
        "import numpy as np\n",
        "import pandas as pd\n",
        "\n",
        "# ---------------------------Dataframe of project distribution -----------------------------------------------\n",
        "df = pd.DataFrame([[0,100],[60.7, 4992 ], [77.3, 9998 ], [86.2, 14574 ],[90.6,19448],[93.2,24420],[94.5,29030],[100,88000]],  columns=('Percent', 'Value'))\n",
        "print(df)\n",
        "\n",
        "#--------------Enter Randon Percent between 1 and 100 -------------------\n",
        "n = 0\n",
        "if n == 0:\n",
        "  print('n has to be between 1 and 100 - has been set to 1')\n",
        "  n = 1\n",
        "#------------------Find index below random percent --------------------\n",
        " \n",
        "dfb = df[ df['Percent']<n ].index.values.astype(int)  # find rows below n\n",
        "rowbelowid = len(dfb)-1   # last value in dfb list\n",
        "# print (dfb)\n",
        "# print(rowbelowid)\n",
        "\n",
        "#------------------Find index above random percent --------------------\n",
        "\n",
        "dfa = df[ df['Percent']>=n ].index.values.astype(int)   # find rows above n\n",
        "# print(dfa)\n",
        "\n",
        "rowaboveid = dfa[0]   # first value in dfa list\n",
        "# print(rowaboveid)\n",
        "\n",
        "# ----------------work out percents and values above and below-----------------\n",
        "print('==============================================')\n",
        "print('Randomly chosen Percent=', n)\n",
        "print('Row Below index =',rowbelowid)\n",
        "print('Row above index =',rowaboveid)\n",
        "print('Row Below percent =',df.at[rowbelowid,'Percent'])\n",
        "print('Row above percent =',df.at[rowaboveid,'Percent'])\n",
        "\n",
        "print('Row Below value =',df.at[rowbelowid,'Value'])\n",
        "print('Row above value =',df.at[rowaboveid,'Value'])\n",
        "\n",
        "#-----------------------------Prep for Interpolation ----------------------\n",
        "rowvalue_above = df.at[rowaboveid,'Value']\n",
        "rowpercent_above = df.at[rowaboveid,'Percent']\n",
        "rowvalue_below = df.at[rowbelowid,'Value']\n",
        "rowpercent_below = df.at[rowbelowid,'Percent']\n",
        "\n",
        "diffPercentbelow = round(n - df.at[rowbelowid,'Percent'],1)\n",
        "diffPercentbetweenupperandlower = round(df.at[rowaboveid,'Percent'] - df.at[rowbelowid,'Percent'],1)\n",
        "differenceValuebetweenupperandlower = rowvalue_above - rowvalue_below\n",
        "print('')\n",
        "\n",
        "\n",
        "#-----------------------------Prints for Interpolation calc ----------------------\n",
        "print('Percent Diff below random percent=',diffPercentbelow,'(', n, '-',rowpercent_below,')')\n",
        "print('Percent Diff below between below and above percent=', diffPercentbetweenupperandlower,'(', df.at[rowaboveid,'Percent'] , '-',rowpercent_below,')')\n",
        "print('Value Difference between below and above', rowvalue_above - rowvalue_below,'(',df.at[rowaboveid,'Value'],'-', df.at[rowbelowid,'Value'],')')\n",
        "\n",
        "\n",
        "#------------------------------Interpolation Calc -----------------------------\n",
        "interpvalue = (n - rowpercent_below )* (rowvalue_above - rowvalue_below ) /(rowpercent_above - rowpercent_below) + rowvalue_below \n",
        "interpvalue = int(interpvalue)\n",
        "print('')\n",
        "print('==============================================')\n",
        "print('Interpolated Value=', interpvalue,'   (((',diffPercentbelow ,')','/','(', diffPercentbetweenupperandlower,'))', '*','(',differenceValuebetweenupperandlower,'))', ' +',rowvalue_below)\n",
        "print('==============================================')\n"
      ],
      "execution_count": null,
      "outputs": []
    }
  ]
}