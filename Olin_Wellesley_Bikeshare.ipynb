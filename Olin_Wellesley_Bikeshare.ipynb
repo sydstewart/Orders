{
  "nbformat": 4,
  "nbformat_minor": 0,
  "metadata": {
    "colab": {
      "name": "Olin-Wellesley Bikeshare.ipynb",
      "provenance": [],
      "collapsed_sections": [],
      "authorship_tag": "ABX9TyMd+V0tPj119hVIO8QGBDjq",
      "include_colab_link": true
    },
    "kernelspec": {
      "name": "python3",
      "display_name": "Python 3"
    },
    "language_info": {
      "name": "python"
    }
  },
  "cells": [
    {
      "cell_type": "markdown",
      "metadata": {
        "id": "view-in-github",
        "colab_type": "text"
      },
      "source": [
        "<a href=\"https://colab.research.google.com/github/sydstewart/Orders/blob/main/Olin_Wellesley_Bikeshare.ipynb\" target=\"_parent\"><img src=\"https://colab.research.google.com/assets/colab-badge.svg\" alt=\"Open In Colab\"/></a>"
      ]
    },
    {
      "cell_type": "code",
      "metadata": {
        "id": "_RLEkvsRK636"
      },
      "source": [
        "# install Pint if necessary\n",
        "\n",
        "try:\n",
        "    import pint\n",
        "except ImportError:\n",
        "    !pip install pint\n",
        "\n",
        "# download modsim.py if necessary\n",
        "\n",
        "from os.path import basename, exists\n",
        "\n",
        "def download(url):\n",
        "    filename = basename(url)\n",
        "    if not exists(filename):\n",
        "        from urllib.request import urlretrieve\n",
        "        local, _ = urlretrieve(url, filename)\n",
        "        print('Downloaded ' + local)\n",
        "    \n",
        "download('https://raw.githubusercontent.com/AllenDowney/' +\n",
        "         'ModSimPy/master/modsim.py')\n"
      ],
      "execution_count": 26,
      "outputs": []
    },
    {
      "cell_type": "code",
      "metadata": {
        "id": "2eNN_nFhV9Jw"
      },
      "source": [
        "# import functions from modsim\n",
        "\n",
        "from modsim import *\n",
        "\n",
        "state = State(olin=10, wellesley=2, olin_empty=0, wellesley_empty=0)\n",
        "\n",
        "show(state)\n",
        "\n",
        "def bike_to_wellesley(state):\n",
        "    print('Moving a bike to Wellesley')\n",
        "    if state.olin  == 0:\n",
        "       state.olin_empty += 1 \n",
        "       return\n",
        "    state.olin -= 1\n",
        "    state.wellesley += 1\n",
        "\n",
        "def bike_to_olin(state):\n",
        "    print('Moving a bike to Olin')\n",
        "    if state.wellesley  == 0:\n",
        "      state.wellesley_empty += 1\n",
        "      return\n",
        "    state.wellesley -= 1\n",
        "    state.olin += 1\n",
        "\n",
        "def step(state, p1, p2):\n",
        "    if flip(p1):\n",
        "        bike_to_wellesley(state)\n",
        "    \n",
        "    if flip(p2):\n",
        "        bike_to_olin(state)\n",
        "\n",
        "def run_simulation(state, p1, p2, num_steps):\n",
        "\n",
        "      # state = State(olin=10, wellesley=2, olin_empty=0, wellesley_empty=0)\n",
        "      results = TimeSeries()\n",
        "      results0 =TimeSeries()\n",
        "\n",
        "      for i in range(num_steps):\n",
        "          print(i)\n",
        "          step(state,p1, p2)\n",
        "          if state.olin != 0 or state.wellesley != 0 :\n",
        "              results[i+1] = state.olin\n",
        "              results0[i+1] = state.wellesley\n",
        "\n",
        "      results.plot(label='Olin')\n",
        "      decorate(title='Olin-Wellesley Bikeshare',\n",
        "              xlabel='Time step (min)', \n",
        "              ylabel='Number of bikes')\n",
        "\n",
        "      results0.plot(label='Wellesley')\n",
        "      decorate(title='Olin-Wellesley Bikeshare',\n",
        "              xlabel='Time step (min)', \n",
        "              ylabel='Number of bikes')\n",
        "      print(\" \")\n",
        "      print('No of times olin empty=',bikeshare.olin_empty,'No of times wellesly empty=', bikeshare.wellesley_empty)\n",
        "\n",
        "run_simulation(bikeshare, 0.5, 0.33, 100)\n",
        "\n",
        "\n"
      ],
      "execution_count": null,
      "outputs": []
    },
    {
      "cell_type": "code",
      "metadata": {
        "id": "qSkZnsNNzG_E"
      },
      "source": [
        "ikeshare"
      ],
      "execution_count": null,
      "outputs": []
    }
  ]
}