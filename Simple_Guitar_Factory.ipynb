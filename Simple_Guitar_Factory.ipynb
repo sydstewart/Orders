{
  "nbformat": 4,
  "nbformat_minor": 0,
  "metadata": {
    "colab": {
      "name": "Simple_Guitar_Factory.ipynb",
      "provenance": [],
      "collapsed_sections": [],
      "authorship_tag": "ABX9TyNG/AMc0hATAWybOI3emYso",
      "include_colab_link": true
    },
    "kernelspec": {
      "name": "python3",
      "display_name": "Python 3"
    },
    "language_info": {
      "name": "python"
    }
  },
  "cells": [
    {
      "cell_type": "markdown",
      "metadata": {
        "id": "view-in-github",
        "colab_type": "text"
      },
      "source": [
        "<a href=\"https://colab.research.google.com/github/sydstewart/Orders/blob/main/Simple_Guitar_Factory.ipynb\" target=\"_parent\"><img src=\"https://colab.research.google.com/assets/colab-badge.svg\" alt=\"Open In Colab\"/></a>"
      ]
    },
    {
      "cell_type": "code",
      "metadata": {
        "colab": {
          "base_uri": "https://localhost:8080/"
        },
        "id": "xINC3bvj-Rvj",
        "outputId": "399b7a6f-fdd1-41fa-cda5-0091b9234d75"
      },
      "source": [
        "!pip install simpy\n",
        "import simpy\n",
        "\n",
        "print(f'STARTING SIMULATION')\n",
        "print(f'----------------------------------')\n",
        "\n",
        "#-------------------------------------------------\n",
        "\n",
        "#Parameters\n",
        "\n",
        "#working hours\n",
        "hours = 8\n",
        "#business days\n",
        "days = 5\n",
        "\n",
        "#total working time (hours)\n",
        "total_time = hours * days\n",
        "\n",
        "#containers\n",
        "    #wood\n",
        "wood_capacity = 1000\n",
        "initial_wood = 500\n",
        "    #electronic\n",
        "electronic_capacity = 100\n",
        "initial_electronic = 100\n",
        "    #paint\n",
        "pre_paint_capacity = 100\n",
        "post_paint_capacity = 200    \n",
        "    #dispatch\n",
        "dispatch_capacity = 500\n",
        "\n",
        "#-------------------------------------------------\n",
        "\n",
        "class Guitar_Factory:\n",
        "    def __init__(self, env):\n",
        "        self.wood = simpy.Container(env, capacity = wood_capacity, init = initial_wood)\n",
        "        self.electronic = simpy.Container(env, capacity = electronic_capacity, init = initial_electronic)\n",
        "        self.pre_paint = simpy.Container(env, capacity = pre_paint_capacity, init = 0)\n",
        "        self.post_paint = simpy.Container(env, capacity = post_paint_capacity, init = 0)\n",
        "        self.dispatch = simpy.Container(env ,capacity = dispatch_capacity, init = 0)\n",
        "                \n",
        "def body_maker(env, guitar_factory):\n",
        "    while True:\n",
        "        yield guitar_factory.wood.get(1)\n",
        "        body_time = 1\n",
        "        yield env.timeout(body_time)\n",
        "        yield guitar_factory.pre_paint.put(1)\n",
        "\n",
        "def neck_maker(env, guitar_factory):\n",
        "    while True:\n",
        "        yield guitar_factory.wood.get(1)\n",
        "        neck_time = 1\n",
        "        yield env.timeout(neck_time)\n",
        "        yield guitar_factory.pre_paint.put(2)\n",
        "        \n",
        "def painter(env, guitar_factory):\n",
        "    while True:\n",
        "        yield guitar_factory.pre_paint.get(10)\n",
        "        paint_time = 4\n",
        "        yield env.timeout(paint_time)\n",
        "        yield guitar_factory.post_paint.put(10)\n",
        "\n",
        "def assembler(env, guitar_factory):\n",
        "    while True:\n",
        "        yield guitar_factory.post_paint.get(2)\n",
        "        yield guitar_factory.electronic.get(1)\n",
        "        assembling_time = 1\n",
        "        yield env.timeout(assembling_time)\n",
        "        yield guitar_factory.dispatch.put(1)\n",
        "\n",
        "#-------------------------------------------------\n",
        "        \n",
        "\n",
        "env = simpy.Environment()\n",
        "guitar_factory = Guitar_Factory(env)\n",
        "\n",
        "body_maker_process = env.process(body_maker(env, guitar_factory))\n",
        "neck_maker_process = env.process(neck_maker(env, guitar_factory))\n",
        "painter_process = env.process(painter(env, guitar_factory))\n",
        "assembler_process = env.process(assembler(env, guitar_factory))\n",
        "\n",
        "env.run(until = total_time)\n",
        "\n",
        "print(f'Pre paint has %d bodies and necks ready to be painted' % guitar_factory.pre_paint.level)\n",
        "print(f'Post paint has %d bodies and necks ready to be assembled' % guitar_factory.post_paint.level)\n",
        "print(f'Dispatch has %d guitars ready to go!' % guitar_factory.dispatch.level)\n",
        "print(f'----------------------------------')\n",
        "print(f'SIMULATION COMPLETED')\n",
        "\n",
        "\n"
      ],
      "execution_count": 10,
      "outputs": [
        {
          "output_type": "stream",
          "text": [
            "Requirement already satisfied: simpy in /usr/local/lib/python3.7/dist-packages (4.0.1)\n",
            "STARTING SIMULATION\n",
            "----------------------------------\n",
            "Pre paint has 27 bodies and necks ready to be painted\n",
            "Post paint has 16 bodies and necks ready to be assembled\n",
            "Dispatch has 31 guitars ready to go!\n",
            "----------------------------------\n",
            "SIMULATION COMPLETED\n"
          ],
          "name": "stdout"
        }
      ]
    }
  ]
}