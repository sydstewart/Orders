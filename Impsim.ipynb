{
  "nbformat": 4,
  "nbformat_minor": 0,
  "metadata": {
    "colab": {
      "name": "Impsim.ipynb",
      "provenance": [],
      "collapsed_sections": [],
      "authorship_tag": "ABX9TyOtAJgBTGf8JRJ6A1wbS9XE",
      "include_colab_link": true
    },
    "kernelspec": {
      "name": "python3",
      "display_name": "Python 3"
    },
    "language_info": {
      "name": "python"
    }
  },
  "cells": [
    {
      "cell_type": "markdown",
      "metadata": {
        "id": "view-in-github",
        "colab_type": "text"
      },
      "source": [
        "<a href=\"https://colab.research.google.com/github/sydstewart/Orders/blob/main/Impsim.ipynb\" target=\"_parent\"><img src=\"https://colab.research.google.com/assets/colab-badge.svg\" alt=\"Open In Colab\"/></a>"
      ]
    },
    {
      "cell_type": "code",
      "metadata": {
        "id": "mFSeq9qtp64m",
        "colab": {
          "base_uri": "https://localhost:8080/"
        },
        "outputId": "1351127a-3a8f-479a-c63d-dabe7a5987e9"
      },
      "source": [
        "\"\"\"Companion code to https://realpython.com/simulation-with-simpy/\n",
        "'Simulating Real-World Processes With SimPy'\n",
        "Python version: 3.7.3\n",
        "SimPy version: 3.0.11\n",
        "\"\"\"\n",
        "!pip install simpy\n",
        "import simpy\n",
        "import random\n",
        "import statistics\n",
        "\n",
        "wait_times = []\n",
        "\n",
        "\n",
        "class Implement(object):\n",
        "    def __init__(self, env, num_kitters):\n",
        "        self.env = env\n",
        "        self.kitter = simpy.Resource(env, num_kitters)\n",
        "        # self.server = simpy.Resource(env, num_servers)\n",
        "        # self.usher = simpy.Resource(env, num_ushers)\n",
        "\n",
        "    def kit(self, project):\n",
        "        yield self.env.timeout(random.randint(1, 3))\n",
        "\n",
        "    # def check_ticket(self, project):\n",
        "    #     yield self.env.timeout(3 / 60)\n",
        "\n",
        "    # def sell_food(self, project):\n",
        "    #     yield self.env.timeout(random.randint(1, 5))\n",
        "\n",
        "\n",
        "def go_to_implement(env, project, implementation):\n",
        "    # Moviegoer arrives at the implementation\n",
        "    arrival_time = env.now\n",
        "\n",
        "    with implementation.kitter.request() as request:\n",
        "        yield request\n",
        "        yield env.process(implementation.kit(project))\n",
        "\n",
        "    # with implementation.usher.request() as request:\n",
        "    #     yield request\n",
        "    #     yield env.process(implementation.check_ticket(project))\n",
        "\n",
        "    # if random.choice([True, False]):\n",
        "    #     with implementation.server.request() as request:\n",
        "    #         yield request\n",
        "    #         yield env.process(implementation.sell_food(project))\n",
        "\n",
        "    # Moviegoer heads into the implementation\n",
        "    wait_times.append(env.now - arrival_time)\n",
        "\n",
        "\n",
        "def run_implementation(env, num_kitters):\n",
        "    implementation = Implement(env, num_kitters)\n",
        "\n",
        "    for project in range(3):\n",
        "        env.process(go_to_implement(env, project, implementation))\n",
        "\n",
        "    while True:\n",
        "        yield env.timeout(0.20)  # Wait a bit before generating a new person\n",
        "\n",
        "        project += 1\n",
        "        env.process(go_to_implement(env, project, implementation))\n",
        "\n",
        "\n",
        "def get_average_wait_time(wait_times):\n",
        "    average_wait = statistics.mean(wait_times)\n",
        "    # Pretty print the results\n",
        "    minutes, frac_minutes = divmod(average_wait, 1)\n",
        "    seconds = frac_minutes * 60\n",
        "    return round(minutes), round(seconds)\n",
        "\n",
        "\n",
        "# def get_user_input():\n",
        "#     num_kitters = input(\"Input # of kitters working: \")\n",
        "#     num_servers = input(\"Input # of servers working: \")\n",
        "#     num_ushers = input(\"Input # of ushers working: \")\n",
        "#     params = [num_kitters, num_servers, num_ushers]\n",
        "#     if all(str(i).isdigit() for i in params):  # Check input is valid\n",
        "#         params = [int(x) for x in params]\n",
        "#     else:\n",
        "#         print(\n",
        "#             \"Could not parse input. Simulation will use default values:\",\n",
        "#             \"\\n1 kitter, 1 server, 1 usher.\",\n",
        "#         )\n",
        "#         params = [1, 1, 1]\n",
        "#     return params\n",
        "\n",
        "\n",
        "def main():\n",
        "    # Setup\n",
        "    random.seed(42)\n",
        "    num_kitters = 4 #, num_servers, num_ushers = get_user_input()\n",
        "\n",
        "    # Run the simulation\n",
        "    env = simpy.Environment()\n",
        "    env.process(run_implementation(env, num_kitters))\n",
        "    env.run(until=90)\n",
        "\n",
        "    # View the results\n",
        "    mins, secs = get_average_wait_time(wait_times)\n",
        "    print(\n",
        "        \"Running simulation...\",\n",
        "        f\"\\nThe average wait time is {mins} minutes and {secs} seconds.\",\n",
        "    )\n",
        "\n",
        "\n",
        "if __name__ == \"__main__\":\n",
        "    main()"
      ],
      "execution_count": 4,
      "outputs": [
        {
          "output_type": "stream",
          "text": [
            "Requirement already satisfied: simpy in /usr/local/lib/python3.7/dist-packages (4.0.1)\n",
            "Running simulation... \n",
            "The average wait time is 27 minutes and 15 seconds.\n"
          ],
          "name": "stdout"
        }
      ]
    }
  ]
}